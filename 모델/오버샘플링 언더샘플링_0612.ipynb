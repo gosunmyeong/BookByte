{
 "cells": [
  {
   "cell_type": "code",
   "execution_count": null,
   "id": "0be15d18-146b-46fc-afd1-c6f1e3975e02",
   "metadata": {},
   "outputs": [],
   "source": [
    "`-------------------------------------여기부터 시작"
   ]
  },
  {
   "cell_type": "code",
   "execution_count": 1,
   "id": "2608e9ab-02c7-4491-8c01-cf0955ca9eb5",
   "metadata": {},
   "outputs": [],
   "source": [
    "# 필요 라이브러리\n",
    "import pandas as pd\n",
    "import numpy as np\n",
    "import matplotlib.pyplot as plt\n",
    "import seaborn as sns\n",
    "from sklearn.utils import resample\n",
    "from surprise import Dataset, Reader, SVD\n",
    "from surprise.model_selection import train_test_split\n",
    "from surprise import accuracy\n",
    "\n",
    "# 한글 폰트\n",
    "import matplotlib as mpl\n",
    "mpl.rc('font', family='Malgun Gothic')\n",
    "mpl.rcParams['axes.unicode_minus'] = False\n",
    "\n",
    "# 모델 저장\n",
    "import joblib"
   ]
  },
  {
   "cell_type": "code",
   "execution_count": 3,
   "id": "e634d1f5-3355-4274-aeab-c839953aee9f",
   "metadata": {},
   "outputs": [],
   "source": [
    "# 데이터 로드\n",
    "df = pd.read_csv(\"화요일_전처리.csv\", encoding='utf-8', low_memory=False)"
   ]
  },
  {
   "cell_type": "code",
   "execution_count": 5,
   "id": "0d9bf76a-6894-48c5-b50b-3681704020b5",
   "metadata": {},
   "outputs": [
    {
     "name": "stdout",
     "output_type": "stream",
     "text": [
      "<class 'pandas.core.frame.DataFrame'>\n",
      "RangeIndex: 55059 entries, 0 to 55058\n",
      "Data columns (total 14 columns):\n",
      " #   Column       Non-Null Count  Dtype  \n",
      "---  ------       --------------  -----  \n",
      " 0   user_id      55059 non-null  object \n",
      " 1   isbn         55059 non-null  int64  \n",
      " 2   rating       55059 non-null  int64  \n",
      " 3   review       55059 non-null  object \n",
      " 4   title        55059 non-null  object \n",
      " 5   writer       55059 non-null  object \n",
      " 6   publisher    55059 non-null  object \n",
      " 7   Pub_date     55059 non-null  float64\n",
      " 8   re_price     55059 non-null  object \n",
      " 9   sa_price     55059 non-null  object \n",
      " 10  genre        55059 non-null  object \n",
      " 11  description  53351 non-null  object \n",
      " 12  user_mean    55059 non-null  float64\n",
      " 13  rating_cen   55059 non-null  float64\n",
      "dtypes: float64(3), int64(2), object(9)\n",
      "memory usage: 5.9+ MB\n"
     ]
    }
   ],
   "source": [
    "df.info()"
   ]
  },
  {
   "cell_type": "code",
   "execution_count": 7,
   "id": "cab31086-172c-4c00-a127-08576adc71ca",
   "metadata": {},
   "outputs": [
    {
     "data": {
      "text/html": [
       "<div>\n",
       "<style scoped>\n",
       "    .dataframe tbody tr th:only-of-type {\n",
       "        vertical-align: middle;\n",
       "    }\n",
       "\n",
       "    .dataframe tbody tr th {\n",
       "        vertical-align: top;\n",
       "    }\n",
       "\n",
       "    .dataframe thead th {\n",
       "        text-align: right;\n",
       "    }\n",
       "</style>\n",
       "<table border=\"1\" class=\"dataframe\">\n",
       "  <thead>\n",
       "    <tr style=\"text-align: right;\">\n",
       "      <th></th>\n",
       "      <th>isbn</th>\n",
       "      <th>rating</th>\n",
       "      <th>Pub_date</th>\n",
       "      <th>user_mean</th>\n",
       "      <th>rating_cen</th>\n",
       "    </tr>\n",
       "  </thead>\n",
       "  <tbody>\n",
       "    <tr>\n",
       "      <th>count</th>\n",
       "      <td>5.505900e+04</td>\n",
       "      <td>55059.000000</td>\n",
       "      <td>5.505900e+04</td>\n",
       "      <td>55059.000000</td>\n",
       "      <td>55059.000000</td>\n",
       "    </tr>\n",
       "    <tr>\n",
       "      <th>mean</th>\n",
       "      <td>9.789021e+12</td>\n",
       "      <td>4.325324</td>\n",
       "      <td>2.014089e+07</td>\n",
       "      <td>4.325686</td>\n",
       "      <td>-0.000362</td>\n",
       "    </tr>\n",
       "    <tr>\n",
       "      <th>std</th>\n",
       "      <td>1.915742e+10</td>\n",
       "      <td>1.002221</td>\n",
       "      <td>6.133329e+04</td>\n",
       "      <td>0.516383</td>\n",
       "      <td>0.858796</td>\n",
       "    </tr>\n",
       "    <tr>\n",
       "      <th>min</th>\n",
       "      <td>8.809264e+12</td>\n",
       "      <td>1.000000</td>\n",
       "      <td>1.989053e+07</td>\n",
       "      <td>1.000000</td>\n",
       "      <td>-3.875000</td>\n",
       "    </tr>\n",
       "    <tr>\n",
       "      <th>25%</th>\n",
       "      <td>9.788938e+12</td>\n",
       "      <td>4.000000</td>\n",
       "      <td>2.010111e+07</td>\n",
       "      <td>4.071429</td>\n",
       "      <td>-0.375000</td>\n",
       "    </tr>\n",
       "    <tr>\n",
       "      <th>50%</th>\n",
       "      <td>9.788960e+12</td>\n",
       "      <td>5.000000</td>\n",
       "      <td>2.015062e+07</td>\n",
       "      <td>4.428571</td>\n",
       "      <td>0.166667</td>\n",
       "    </tr>\n",
       "    <tr>\n",
       "      <th>75%</th>\n",
       "      <td>9.788994e+12</td>\n",
       "      <td>5.000000</td>\n",
       "      <td>2.018092e+07</td>\n",
       "      <td>4.714286</td>\n",
       "      <td>0.482759</td>\n",
       "    </tr>\n",
       "    <tr>\n",
       "      <th>max</th>\n",
       "      <td>9.791199e+12</td>\n",
       "      <td>5.000000</td>\n",
       "      <td>2.025060e+07</td>\n",
       "      <td>4.986111</td>\n",
       "      <td>3.555556</td>\n",
       "    </tr>\n",
       "  </tbody>\n",
       "</table>\n",
       "</div>"
      ],
      "text/plain": [
       "               isbn        rating      Pub_date     user_mean    rating_cen\n",
       "count  5.505900e+04  55059.000000  5.505900e+04  55059.000000  55059.000000\n",
       "mean   9.789021e+12      4.325324  2.014089e+07      4.325686     -0.000362\n",
       "std    1.915742e+10      1.002221  6.133329e+04      0.516383      0.858796\n",
       "min    8.809264e+12      1.000000  1.989053e+07      1.000000     -3.875000\n",
       "25%    9.788938e+12      4.000000  2.010111e+07      4.071429     -0.375000\n",
       "50%    9.788960e+12      5.000000  2.015062e+07      4.428571      0.166667\n",
       "75%    9.788994e+12      5.000000  2.018092e+07      4.714286      0.482759\n",
       "max    9.791199e+12      5.000000  2.025060e+07      4.986111      3.555556"
      ]
     },
     "execution_count": 7,
     "metadata": {},
     "output_type": "execute_result"
    }
   ],
   "source": [
    "df.describe()"
   ]
  },
  {
   "cell_type": "code",
   "execution_count": 11,
   "id": "4783542e-7e10-4ab3-b4d3-3fc501beb60b",
   "metadata": {},
   "outputs": [
    {
     "data": {
      "text/plain": [
       "(55059, 14)"
      ]
     },
     "execution_count": 11,
     "metadata": {},
     "output_type": "execute_result"
    }
   ],
   "source": [
    "df.shape"
   ]
  },
  {
   "cell_type": "code",
   "execution_count": 13,
   "id": "5ef46b6c-9588-436e-ade6-c8b6624183f7",
   "metadata": {},
   "outputs": [
    {
     "data": {
      "text/html": [
       "<div>\n",
       "<style scoped>\n",
       "    .dataframe tbody tr th:only-of-type {\n",
       "        vertical-align: middle;\n",
       "    }\n",
       "\n",
       "    .dataframe tbody tr th {\n",
       "        vertical-align: top;\n",
       "    }\n",
       "\n",
       "    .dataframe thead th {\n",
       "        text-align: right;\n",
       "    }\n",
       "</style>\n",
       "<table border=\"1\" class=\"dataframe\">\n",
       "  <thead>\n",
       "    <tr style=\"text-align: right;\">\n",
       "      <th></th>\n",
       "      <th>user_id</th>\n",
       "      <th>isbn</th>\n",
       "      <th>rating</th>\n",
       "      <th>review</th>\n",
       "      <th>title</th>\n",
       "      <th>writer</th>\n",
       "      <th>publisher</th>\n",
       "      <th>Pub_date</th>\n",
       "      <th>re_price</th>\n",
       "      <th>sa_price</th>\n",
       "      <th>genre</th>\n",
       "      <th>description</th>\n",
       "      <th>user_mean</th>\n",
       "      <th>rating_cen</th>\n",
       "    </tr>\n",
       "  </thead>\n",
       "  <tbody>\n",
       "    <tr>\n",
       "      <th>0</th>\n",
       "      <td>보슬비</td>\n",
       "      <td>9788936434120</td>\n",
       "      <td>5</td>\n",
       "      <td>어떻게 얻은 민주주의인데... 우리의 힘은 ‘잊지말기‘, ‘기억하기‘ 그래서 ‘지켜내기‘</td>\n",
       "      <td>소년이 온다</td>\n",
       "      <td>한강 지음</td>\n",
       "      <td>창비</td>\n",
       "      <td>20140519.0</td>\n",
       "      <td>15,000</td>\n",
       "      <td>13,500</td>\n",
       "      <td>소설/시/희곡</td>\n",
       "      <td>말라파르테 문학상, 만해문학상 수상작 \\n우리 시대의 소설 『소년이 온다』\\n\\n2...</td>\n",
       "      <td>4.300000</td>\n",
       "      <td>0.700000</td>\n",
       "    </tr>\n",
       "    <tr>\n",
       "      <th>1</th>\n",
       "      <td>책읽는나무</td>\n",
       "      <td>9788936434120</td>\n",
       "      <td>5</td>\n",
       "      <td>아픔과 슬픔은 경험해봐야 크게  공감할 수 있다지만, 글을 읽으면서도 이미 눈은 슬...</td>\n",
       "      <td>소년이 온다</td>\n",
       "      <td>한강 지음</td>\n",
       "      <td>창비</td>\n",
       "      <td>20140519.0</td>\n",
       "      <td>15,000</td>\n",
       "      <td>13,500</td>\n",
       "      <td>소설/시/희곡</td>\n",
       "      <td>말라파르테 문학상, 만해문학상 수상작 \\n우리 시대의 소설 『소년이 온다』\\n\\n2...</td>\n",
       "      <td>4.412844</td>\n",
       "      <td>0.587156</td>\n",
       "    </tr>\n",
       "    <tr>\n",
       "      <th>2</th>\n",
       "      <td>코코몽</td>\n",
       "      <td>9788936434120</td>\n",
       "      <td>5</td>\n",
       "      <td>역사를 잊은 민족에게 미래는 없다.</td>\n",
       "      <td>소년이 온다</td>\n",
       "      <td>한강 지음</td>\n",
       "      <td>창비</td>\n",
       "      <td>20140519.0</td>\n",
       "      <td>15,000</td>\n",
       "      <td>13,500</td>\n",
       "      <td>소설/시/희곡</td>\n",
       "      <td>말라파르테 문학상, 만해문학상 수상작 \\n우리 시대의 소설 『소년이 온다』\\n\\n2...</td>\n",
       "      <td>4.666667</td>\n",
       "      <td>0.333333</td>\n",
       "    </tr>\n",
       "  </tbody>\n",
       "</table>\n",
       "</div>"
      ],
      "text/plain": [
       "  user_id           isbn  rating  \\\n",
       "0     보슬비  9788936434120       5   \n",
       "1   책읽는나무  9788936434120       5   \n",
       "2     코코몽  9788936434120       5   \n",
       "\n",
       "                                              review   title writer publisher  \\\n",
       "0  어떻게 얻은 민주주의인데... 우리의 힘은 ‘잊지말기‘, ‘기억하기‘ 그래서 ‘지켜내기‘  소년이 온다  한강 지음        창비   \n",
       "1  아픔과 슬픔은 경험해봐야 크게  공감할 수 있다지만, 글을 읽으면서도 이미 눈은 슬...  소년이 온다  한강 지음        창비   \n",
       "2                                역사를 잊은 민족에게 미래는 없다.  소년이 온다  한강 지음        창비   \n",
       "\n",
       "     Pub_date re_price sa_price    genre  \\\n",
       "0  20140519.0   15,000   13,500  소설/시/희곡   \n",
       "1  20140519.0   15,000   13,500  소설/시/희곡   \n",
       "2  20140519.0   15,000   13,500  소설/시/희곡   \n",
       "\n",
       "                                         description  user_mean  rating_cen  \n",
       "0  말라파르테 문학상, 만해문학상 수상작 \\n우리 시대의 소설 『소년이 온다』\\n\\n2...   4.300000    0.700000  \n",
       "1  말라파르테 문학상, 만해문학상 수상작 \\n우리 시대의 소설 『소년이 온다』\\n\\n2...   4.412844    0.587156  \n",
       "2  말라파르테 문학상, 만해문학상 수상작 \\n우리 시대의 소설 『소년이 온다』\\n\\n2...   4.666667    0.333333  "
      ]
     },
     "execution_count": 13,
     "metadata": {},
     "output_type": "execute_result"
    }
   ],
   "source": [
    "df.head(3)"
   ]
  },
  {
   "cell_type": "code",
   "execution_count": null,
   "id": "7f071843-1204-4873-bd10-f1a8342c3866",
   "metadata": {},
   "outputs": [],
   "source": [
    "#  오버샘플링\n",
    "max_size = df['rating'].value_counts().max()\n",
    "lst_over = [df]\n",
    "for class_index, group in df.groupby('rating'):\n",
    "    lst_over.append(group.sample(max_size - len(group), replace=True, random_state=42))\n",
    "df_over = pd.concat(lst_over)\n"
   ]
  },
  {
   "cell_type": "code",
   "execution_count": null,
   "id": "bae7f811-53bb-4ad5-8359-d2a4610366d0",
   "metadata": {},
   "outputs": [],
   "source": [
    "reader = Reader(rating_scale=(1, 5))\n",
    "data = Dataset.load_from_df(df_over[['user_id', 'isbn', 'rating']], reader)"
   ]
  },
  {
   "cell_type": "code",
   "execution_count": null,
   "id": "ebf8f9e3-8204-4e0b-adf2-fcc1429d8154",
   "metadata": {},
   "outputs": [],
   "source": [
    "trainset, testset = train_test_split(data, test_size=0.2, random_state=26)\n",
    "\n",
    "model = SVD( n_epochs = 60,\n",
    "lr_all = 0.008,\n",
    "reg_all = 0.07,\n",
    "n_factors = 100)\n",
    "model.fit(trainset)\n"
   ]
  },
  {
   "cell_type": "code",
   "execution_count": null,
   "id": "69f6180c-2e5c-4b77-92a9-3f6e2382ed6c",
   "metadata": {},
   "outputs": [],
   "source": [
    "joblib.dump(model, 'day0612.pkl')"
   ]
  },
  {
   "cell_type": "code",
   "execution_count": null,
   "id": "bec007b4-4b44-4e8f-bbca-64afc9357e88",
   "metadata": {},
   "outputs": [],
   "source": []
  },
  {
   "cell_type": "code",
   "execution_count": null,
   "id": "58040c19-9b8e-4947-88fa-0f3696c32bf7",
   "metadata": {},
   "outputs": [],
   "source": []
  },
  {
   "cell_type": "code",
   "execution_count": null,
   "id": "d8c09162-a8e6-476c-ab81-263bf71766b0",
   "metadata": {},
   "outputs": [],
   "source": []
  },
  {
   "cell_type": "code",
   "execution_count": 5,
   "id": "b1751a07-f588-4f7d-a322-ac26c3c872b1",
   "metadata": {},
   "outputs": [],
   "source": [
    "#  오버샘플링\n",
    "max_size = df['rating'].value_counts().max()\n",
    "lst_over = [df]\n",
    "for class_index, group in df.groupby('rating'):\n",
    "    lst_over.append(group.sample(max_size - len(group), replace=True, random_state=42))\n",
    "df_over = pd.concat(lst_over)\n"
   ]
  },
  {
   "cell_type": "code",
   "execution_count": 9,
   "id": "d74ca804-5003-4391-afe2-7ec3764f0367",
   "metadata": {},
   "outputs": [
    {
     "data": {
      "text/plain": [
       "32260"
      ]
     },
     "execution_count": 9,
     "metadata": {},
     "output_type": "execute_result"
    }
   ],
   "source": [
    "df['rating'].value_counts().max()"
   ]
  },
  {
   "cell_type": "code",
   "execution_count": 10,
   "id": "fce1ad8a-dd5f-40da-beef-e52335be818f",
   "metadata": {},
   "outputs": [],
   "source": [
    "max_size = df['rating'].value_counts().max()"
   ]
  },
  {
   "cell_type": "code",
   "execution_count": 13,
   "id": "026e8b71-fadd-4b5e-ba69-5a4538ae58f3",
   "metadata": {},
   "outputs": [],
   "source": [
    "lst_over = [df]"
   ]
  },
  {
   "cell_type": "code",
   "execution_count": 14,
   "id": "dd5ff17e-571d-4a62-9d90-03f28d9f930a",
   "metadata": {},
   "outputs": [],
   "source": [
    "\n",
    "for class_index, group in df.groupby('rating'):\n",
    "    lst_over.append(group.sample(max_size - len(group), replace=True, random_state=26))\n",
    "df_over = pd.concat(lst_over)"
   ]
  },
  {
   "cell_type": "code",
   "execution_count": 16,
   "id": "f6a07f78-719c-4ba3-acf1-d2bb147ec000",
   "metadata": {},
   "outputs": [
    {
     "name": "stdout",
     "output_type": "stream",
     "text": [
      "<class 'pandas.core.frame.DataFrame'>\n",
      "Index: 161300 entries, 0 to 18258\n",
      "Data columns (total 14 columns):\n",
      " #   Column       Non-Null Count   Dtype  \n",
      "---  ------       --------------   -----  \n",
      " 0   user_id      161300 non-null  object \n",
      " 1   isbn         161300 non-null  int64  \n",
      " 2   rating       161300 non-null  int64  \n",
      " 3   review       161300 non-null  object \n",
      " 4   title        161300 non-null  object \n",
      " 5   writer       161300 non-null  object \n",
      " 6   publisher    161300 non-null  object \n",
      " 7   Pub_date     161300 non-null  float64\n",
      " 8   re_price     161300 non-null  object \n",
      " 9   sa_price     161300 non-null  object \n",
      " 10  genre        161300 non-null  object \n",
      " 11  description  156779 non-null  object \n",
      " 12  user_mean    161300 non-null  float64\n",
      " 13  rating_cen   161300 non-null  float64\n",
      "dtypes: float64(3), int64(2), object(9)\n",
      "memory usage: 18.5+ MB\n"
     ]
    }
   ],
   "source": [
    "df_over.info()"
   ]
  },
  {
   "cell_type": "code",
   "execution_count": 17,
   "id": "447d5cfb-f588-414e-a2ab-6cf92ffe56f7",
   "metadata": {},
   "outputs": [
    {
     "name": "stderr",
     "output_type": "stream",
     "text": [
      "C:\\Users\\고순명\\AppData\\Local\\Temp\\ipykernel_25396\\1109447705.py:2: DeprecationWarning: DataFrameGroupBy.apply operated on the grouping columns. This behavior is deprecated, and in a future version of pandas the grouping columns will be excluded from the operation. Either pass `include_groups=False` to exclude the groupings or explicitly select the grouping columns after groupby to silence this warning.\n",
      "  df_under = df.groupby('rating').apply(lambda x: x.sample(min_size, random_state=42)).reset_index(drop=True)\n"
     ]
    }
   ],
   "source": [
    "min_size = df['rating'].value_counts().min()\n",
    "df_under = df.groupby('rating').apply(lambda x: x.sample(min_size, random_state=42)).reset_index(drop=True)"
   ]
  },
  {
   "cell_type": "code",
   "execution_count": 19,
   "id": "778a4db8-8bbd-416a-8f5a-683bf4388377",
   "metadata": {},
   "outputs": [
    {
     "name": "stdout",
     "output_type": "stream",
     "text": [
      "<class 'pandas.core.frame.DataFrame'>\n",
      "RangeIndex: 7895 entries, 0 to 7894\n",
      "Data columns (total 14 columns):\n",
      " #   Column       Non-Null Count  Dtype  \n",
      "---  ------       --------------  -----  \n",
      " 0   user_id      7895 non-null   object \n",
      " 1   isbn         7895 non-null   int64  \n",
      " 2   rating       7895 non-null   int64  \n",
      " 3   review       7895 non-null   object \n",
      " 4   title        7895 non-null   object \n",
      " 5   writer       7895 non-null   object \n",
      " 6   publisher    7895 non-null   object \n",
      " 7   Pub_date     7895 non-null   float64\n",
      " 8   re_price     7895 non-null   object \n",
      " 9   sa_price     7895 non-null   object \n",
      " 10  genre        7895 non-null   object \n",
      " 11  description  7663 non-null   object \n",
      " 12  user_mean    7895 non-null   float64\n",
      " 13  rating_cen   7895 non-null   float64\n",
      "dtypes: float64(3), int64(2), object(9)\n",
      "memory usage: 863.6+ KB\n"
     ]
    }
   ],
   "source": [
    "df_under.info()"
   ]
  },
  {
   "cell_type": "code",
   "execution_count": 20,
   "id": "5bc557d1-297e-47e0-87db-cd53f8ad2aa8",
   "metadata": {},
   "outputs": [
    {
     "name": "stdout",
     "output_type": "stream",
     "text": [
      "<class 'pandas.core.frame.DataFrame'>\n",
      "RangeIndex: 55059 entries, 0 to 55058\n",
      "Data columns (total 14 columns):\n",
      " #   Column       Non-Null Count  Dtype  \n",
      "---  ------       --------------  -----  \n",
      " 0   user_id      55059 non-null  object \n",
      " 1   isbn         55059 non-null  int64  \n",
      " 2   rating       55059 non-null  int64  \n",
      " 3   review       55059 non-null  object \n",
      " 4   title        55059 non-null  object \n",
      " 5   writer       55059 non-null  object \n",
      " 6   publisher    55059 non-null  object \n",
      " 7   Pub_date     55059 non-null  float64\n",
      " 8   re_price     55059 non-null  object \n",
      " 9   sa_price     55059 non-null  object \n",
      " 10  genre        55059 non-null  object \n",
      " 11  description  53351 non-null  object \n",
      " 12  user_mean    55059 non-null  float64\n",
      " 13  rating_cen   55059 non-null  float64\n",
      "dtypes: float64(3), int64(2), object(9)\n",
      "memory usage: 5.9+ MB\n"
     ]
    }
   ],
   "source": [
    "df.info()"
   ]
  },
  {
   "cell_type": "code",
   "execution_count": 24,
   "id": "310ca496-8f1e-4984-a365-d0ff1fd6d4d5",
   "metadata": {},
   "outputs": [],
   "source": [
    "from surprise.model_selection import GridSearchCV"
   ]
  },
  {
   "cell_type": "code",
   "execution_count": 27,
   "id": "9e025294-c2bd-438a-a612-860fd6c9e6d3",
   "metadata": {},
   "outputs": [],
   "source": [
    "reader = Reader(rating_scale=(1, 5))\n",
    "data = Dataset.load_from_df(df_over[['user_id', 'isbn', 'rating']], reader)"
   ]
  },
  {
   "cell_type": "code",
   "execution_count": 28,
   "id": "c996b074-af13-4456-9c4d-8008cac07c25",
   "metadata": {},
   "outputs": [],
   "source": [
    "param_grid = {\n",
    "    'n_epochs': [10, 30, 60],\n",
    "    'lr_all': [0.001, 0.005, 0.008],\n",
    "    'reg_all': [ 0.07, 0.09, 0.11],\n",
    "    'n_factors': [10, 50, 100]}\n",
    "\n",
    "gs = GridSearchCV(SVD, param_grid, measures=['rmse'], cv=10)\n",
    "gs.fit(data)  "
   ]
  },
  {
   "cell_type": "code",
   "execution_count": 31,
   "id": "89f51c4e-a0a6-4a67-90fb-1b5674f85603",
   "metadata": {},
   "outputs": [
    {
     "name": "stdout",
     "output_type": "stream",
     "text": [
      "0.47957260019805004\n",
      "{'n_epochs': 60, 'lr_all': 0.008, 'reg_all': 0.07, 'n_factors': 100}\n"
     ]
    }
   ],
   "source": [
    "# 최고 RMSE 출력\n",
    "print(gs.best_score['rmse'])\n",
    " \n",
    "# 최고 RMSE의 parameter 출력\n",
    "print(gs.best_params['rmse'])\n"
   ]
  },
  {
   "cell_type": "code",
   "execution_count": 42,
   "id": "70747229-0172-4b50-8c52-12919562b4c7",
   "metadata": {},
   "outputs": [
    {
     "data": {
      "image/png": "[encoded data removed]",
      "text/plain": [
       "<Figure size 1000x500 with 1 Axes>"
      ]
     },
     "metadata": {},
     "output_type": "display_data"
    },
    {
     "name": "stdout",
     "output_type": "stream",
     "text": [
      " 원본 데이터 성능\n",
      "RMSE: 0.9021\n",
      "MAE:  0.6486\n",
      " 오버샘플링 데이터 성능\n",
      "RMSE: 0.4986\n",
      "MAE:  0.2919\n",
      " 언더샘플링 데이터 성능\n",
      "RMSE: 1.2649\n",
      "MAE:  1.0490\n",
      "\n",
      " 결과 요약\n",
      "원본 RMSE: 0.9021, MAE: 0.6486\n",
      "오버샘플링 RMSE: 0.4986, MAE: 0.2919\n",
      "언더샘플링 RMSE: 1.2649, MAE: 1.0490\n"
     ]
    }
   ],
   "source": [
    "\n",
    "#  시각화용 source 컬럼 추가\n",
    "df['source'] = 'original'\n",
    "df_over['source'] = 'oversampled'\n",
    "df_under['source'] = 'undersampled'\n",
    "\n",
    "df_all = pd.concat([df, df_over, df_under])\n",
    "\n",
    "# 평점 분포 시각화\n",
    "plt.figure(figsize=(10, 5))\n",
    "sns.countplot(x='rating', hue='source', data=df_all)\n",
    "plt.title(\"원본, 오버샘플링, 언더샘플링 평점 분포 비교\")\n",
    "plt.xlabel(\"Rating\")\n",
    "plt.ylabel(\"Count\")\n",
    "plt.legend(title=\"Data Type\")\n",
    "plt.grid(True)\n",
    "plt.show()\n",
    "\n",
    "#  SVD 학습 및 평가 함수\n",
    "def train_and_evaluate(df_input, title='모델 평가'):\n",
    "    reader = Reader(rating_scale=(1, 5))\n",
    "    data = Dataset.load_from_df(df_input[['user_id', 'isbn', 'rating']], reader)\n",
    "    trainset, testset = train_test_split(data, test_size=0.2, random_state=26)\n",
    "\n",
    "    model = SVD( n_epochs = 60,\n",
    "    lr_all = 0.008,\n",
    "    reg_all = 0.07,\n",
    "    n_factors = 100)\n",
    "    model.fit(trainset)\n",
    "\n",
    "    predictions = model.test(testset)\n",
    "    rmse = accuracy.rmse(predictions)\n",
    "    mae = accuracy.mae(predictions)\n",
    "\n",
    "    y_true = [pred.r_ui for pred in predictions]\n",
    "    y_pred = [pred.est for pred in predictions]\n",
    "\n",
    "    return model, rmse, mae\n",
    "\n",
    "#  추천 Top-N 출력 함수\n",
    "def recommend_top_n(model, df_input, user_id, n=10, isbn_to_title=None):\n",
    "    read_books = df_input[df_input['user_id'] == user_id]['isbn'].unique()\n",
    "    all_books = df_input['isbn'].unique()\n",
    "    unread_books = [isbn for isbn in all_books if isbn not in read_books]\n",
    "\n",
    "    preds = [model.predict(user_id, str(isbn)) for isbn in unread_books]\n",
    "    top_n = sorted(preds, key=lambda x: x.est, reverse=True)[:n]\n",
    "\n",
    "    print(f\"\\n[추천 결과] 사용자 {user_id}에게 추천 Top-{n}\")\n",
    "    for pred in top_n:\n",
    "        title = isbn_to_title.get(pred.iid, \"제목 없음\") if isbn_to_title else pred.iid\n",
    "        print(f\"책 제목: {title}, ISBN: {pred.iid}, 예상 평점: {pred.est:.2f}\")\n",
    "\n",
    "#  SVD 학습 및 평가 실행\n",
    "print(\" 원본 데이터 성능\")\n",
    "model_original, rmse_original, mae_original = train_and_evaluate(df, '원본 데이터')\n",
    "\n",
    "print(\" 오버샘플링 데이터 성능\")\n",
    "model_over, rmse_over, mae_over = train_and_evaluate(df_over, '오버샘플링')\n",
    "\n",
    "print(\" 언더샘플링 데이터 성능\")\n",
    "model_under, rmse_under, mae_under = train_and_evaluate(df_under, '언더샘플링')\n",
    "\n",
    "#  결과 요약 출력\n",
    "print(f\"\\n 결과 요약\")\n",
    "print(f\"원본 RMSE: {rmse_original:.4f}, MAE: {mae_original:.4f}\")\n",
    "print(f\"오버샘플링 RMSE: {rmse_over:.4f}, MAE: {mae_over:.4f}\")\n",
    "print(f\"언더샘플링 RMSE: {rmse_under:.4f}, MAE: {mae_under:.4f}\")\n",
    "\n",
    "#  추천 Top-N 테스트\n",
    "# isbn → title 딕셔너리 만들기\n",
    "isbn_to_title = df.set_index('isbn')['title'].to_dict()\n",
    "\n",
    "\n",
    "\n",
    "# 추천 호출 (예시 user_id 입력)\n",
    "# 예) recommend_top_n(model_over, df_over, user_id='12345', n=10, isbn_to_title=isbn_to_title)\n"
   ]
  },
  {
   "cell_type": "code",
   "execution_count": 45,
   "id": "be688b87-9e7d-4da7-96e3-d0ced03fccc4",
   "metadata": {},
   "outputs": [
    {
     "name": "stdout",
     "output_type": "stream",
     "text": [
      " 원본 데이터 성능\n",
      "RMSE: 0.9043\n",
      "MAE:  0.6504\n",
      " 오버샘플링 데이터 성능\n",
      "RMSE: 0.4974\n",
      "MAE:  0.2920\n",
      " 언더샘플링 데이터 성능\n",
      "RMSE: 1.2722\n",
      "MAE:  1.0558\n"
     ]
    }
   ],
   "source": [
    "#  강한 필터링 적용\n",
    "# 유저 최소 10권 이상 읽은 경우만\n",
    "user_counts = df_over['user_id'].value_counts()\n",
    "df_filtered = df_over[df_over['user_id'].isin(user_counts[user_counts >= 10].index)]\n",
    "\n",
    "# 책 최소 10명 이상 평점 받은 경우만\n",
    "isbn_counts = df_filtered['isbn'].value_counts()\n",
    "df_filtered = df_filtered[df_filtered['isbn'].isin(isbn_counts[isbn_counts >= 10].index)]\n",
    "\n",
    "#  SVD 학습 (n_factors=100)\n",
    "reader = Reader(rating_scale=(1, 5))\n",
    "data = Dataset.load_from_df(df_filtered[['user_id', 'isbn', 'rating']], reader)\n",
    "trainset, testset = train_test_split(data, test_size=0.2, random_state=26)\n",
    "\n",
    "model = SVD( n_epochs = 60,\n",
    "        lr_all = 0.008,\n",
    "        reg_all = 0.07,\n",
    "        n_factors = 100)\n",
    "model.fit(trainset)\n",
    "\n",
    "# 추천 Top-N → ISBN 리스트만 출력\n",
    "def recommend_top_n_isbn(model, df_input, user_id, n=10):\n",
    "    read_books = df_input[df_input['user_id'] == user_id]['isbn'].unique()\n",
    "    all_books = df_input['isbn'].unique()\n",
    "    unread_books = [isbn for isbn in all_books if isbn not in read_books]\n",
    "\n",
    "    preds = [model.predict(user_id, str(isbn)) for isbn in unread_books]\n",
    "    top_n = sorted(preds, key=lambda x: x.est, reverse=True)[:n]\n",
    "\n",
    "    recommended_isbns = [pred.iid for pred in top_n]\n",
    "\n",
    "    print(f\"\\n[추천 결과] 사용자 {user_id}에게 추천 Top-{n} (ISBN 리스트)\")\n",
    "    print(recommended_isbns)\n",
    "\n",
    "    return recommended_isbns\n",
    "#  SVD 학습 및 평가 실행\n",
    "print(\" 원본 데이터 성능\")\n",
    "model_original, rmse_original, mae_original = train_and_evaluate(df, '원본 데이터')\n",
    "\n",
    "print(\" 오버샘플링 데이터 성능\")\n",
    "model_over, rmse_over, mae_over = train_and_evaluate(df_over, '오버샘플링')\n",
    "\n",
    "print(\" 언더샘플링 데이터 성능\")\n",
    "model_under, rmse_under, mae_under = train_and_evaluate(df_under, '언더샘플링')\n",
    "\n"
   ]
  },
  {
   "cell_type": "code",
   "execution_count": null,
   "id": "4823abb5-2696-4bce-a1c3-181413b933e8",
   "metadata": {},
   "outputs": [],
   "source": [
    "# 더 강한 필터링 효과 미미"
   ]
  },
  {
   "cell_type": "code",
   "execution_count": null,
   "id": "a060f07c-e863-43d0-8e95-8f0ec86d776c",
   "metadata": {},
   "outputs": [],
   "source": []
  },
  {
   "cell_type": "code",
   "execution_count": 38,
   "id": "9a1b1256-82f0-4c76-bc30-6306e0ff990d",
   "metadata": {},
   "outputs": [
    {
     "data": {
      "text/plain": [
       "array(['보슬비', '책읽는나무', '코코몽', ..., '배롱나무', '장재호', '비비빅'], dtype=object)"
      ]
     },
     "execution_count": 38,
     "metadata": {},
     "output_type": "execute_result"
    }
   ],
   "source": [
    "df_filtered[\"user_id\"].unique()"
   ]
  },
  {
   "cell_type": "code",
   "execution_count": 46,
   "id": "c2ece53b-a607-42ab-a8fa-51c95d0fff22",
   "metadata": {},
   "outputs": [
    {
     "name": "stdout",
     "output_type": "stream",
     "text": [
      "\n",
      "[추천 결과] 사용자 보슬비에게 추천 Top-10 (ISBN 리스트)\n",
      "['9788954682152', '9788936434595', '9788998441012', '9788954651134', '9788932024639', '9788937473401', '9788925554990', '9788954616515', '9791130642574', '9788983711892']\n",
      "\n",
      "[추천 결과] 사용자 장재호에게 추천 Top-10 (ISBN 리스트)\n",
      "['9788936434120', '9788954682152', '9788936434595', '9788998441012', '9788954651134', '9788932024639', '9788937473401', '9788925554990', '9788954616515', '9791130642574']\n",
      "\n",
      "[추천 결과] 사용자 코코몽에게 추천 Top-10 (ISBN 리스트)\n",
      "['9788954682152', '9788936434595', '9788998441012', '9788954651134', '9788932024639', '9788937473401', '9788925554990', '9788954616515', '9791130642574', '9788983711892']\n",
      "\n",
      "[추천 결과] 사용자 비비빅에게 추천 Top-10 (ISBN 리스트)\n",
      "['9788936434120', '9788954682152', '9788936434595', '9788998441012', '9788954651134', '9788932024639', '9788937473401', '9788925554990', '9788954616515', '9791130642574']\n"
     ]
    },
    {
     "data": {
      "text/plain": [
       "['9788936434120',\n",
       " '9788954682152',\n",
       " '9788936434595',\n",
       " '9788998441012',\n",
       " '9788954651134',\n",
       " '9788932024639',\n",
       " '9788937473401',\n",
       " '9788925554990',\n",
       " '9788954616515',\n",
       " '9791130642574']"
      ]
     },
     "execution_count": 46,
     "metadata": {},
     "output_type": "execute_result"
    }
   ],
   "source": [
    "recommend_top_n_isbn(model, df_filtered, user_id='보슬비', n=10)\n",
    "recommend_top_n_isbn(model, df_filtered, user_id='장재호', n=10)\n",
    "recommend_top_n_isbn(model, df_filtered, user_id='코코몽', n=10)\n",
    "recommend_top_n_isbn(model, df_filtered, user_id='비비빅', n=10)"
   ]
  },
  {
   "cell_type": "code",
   "execution_count": null,
   "id": "162c4406-2009-4796-8ce5-d5408ab0a403",
   "metadata": {},
   "outputs": [],
   "source": []
  },
  {
   "cell_type": "code",
   "execution_count": null,
   "id": "9051df28-f244-4452-a696-7cd3f9838a36",
   "metadata": {},
   "outputs": [],
   "source": [
    "--------------"
   ]
  },
  {
   "cell_type": "markdown",
   "id": "299c7ad7-7ce1-44b8-9d98-b38c85e98347",
   "metadata": {},
   "source": [
    "pip install sentence-transformers"
   ]
  },
  {
   "cell_type": "code",
   "execution_count": 10,
   "id": "cafe33f7-5940-4e75-8f86-04d3a0130c0a",
   "metadata": {},
   "outputs": [
    {
     "name": "stdout",
     "output_type": "stream",
     "text": [
      "\n",
      "[Hybrid 추천 결과] 사용자 보슬비 Top-10 (ISBN 리스트)\n",
      "['9791187498100', '9788994343921', '9788985712682', '9791160486735', '9791185014562', '9788992555531', '9788984372757', '9788937473197', '9788936472016', '9788954653848']\n",
      "\n",
      "[Hybrid 추천 결과] 사용자 초딩 Top-10 (ISBN 리스트)\n",
      "['9788936472016', '9788954613392', '9788970128719', '9791191587524', '9788954625470', '9788984372757', '9788901280684', '9788936456221', '9791196075170', '9788984989146']\n",
      "\n",
      "[Hybrid 추천 결과] 사용자 기억의집 Top-10 (ISBN 리스트)\n",
      "['9791196394509', '9788936472016', '9788991147768', '9791197021688', '9788954611275', '9788991622869', '9788954637237', '9788934923503', '9788954621496', '9791190413152']\n",
      " 사용자 세명는 학습된 embedding 없음\n"
     ]
    },
    {
     "data": {
      "text/plain": [
       "[]"
      ]
     },
     "execution_count": 10,
     "metadata": {},
     "output_type": "execute_result"
    }
   ],
   "source": [
    "from sentence_transformers import SentenceTransformer\n",
    "import numpy as np\n",
    "import pandas as pd\n",
    "from sklearn.metrics.pairwise import cosine_similarity\n",
    "\n",
    "#  모델 로드\n",
    "model = SentenceTransformer('sentence-transformers/distiluse-base-multilingual-cased-v2')\n",
    "# https://huggingface.co/sentence-transformers/distiluse-base-multilingual-cased-v2\n",
    "\n",
    "#  책별 review 임베딩 만들기\n",
    "# (review가 null이면 빈 문자열 처리)\n",
    "df_filtered['review'] = df_filtered['review'].fillna('')\n",
    "book_reviews = df_filtered.groupby('isbn')['review'].apply(lambda x: ' '.join(x)).reset_index()\n",
    "\n",
    "# 임베딩 추출\n",
    "book_reviews['embedding'] = book_reviews['review'].apply(lambda x: model.encode(x))\n",
    "\n",
    "# isbn → embedding dict\n",
    "isbn_to_embedding = dict(zip(book_reviews['isbn'].astype(str), book_reviews['embedding']))\n",
    "\n",
    "#  유저 embedding 만들기 → 유저가 읽은 책들의 embedding 평균\n",
    "def get_user_embedding(user_id):\n",
    "    read_books = df_filtered[df_filtered['user_id'] == user_id]['isbn'].unique()\n",
    "    read_embeddings = [isbn_to_embedding[str(isbn)] for isbn in read_books if str(isbn) in isbn_to_embedding]\n",
    "\n",
    "    if len(read_embeddings) == 0:\n",
    "        return None\n",
    "\n",
    "    user_embedding = np.mean(read_embeddings, axis=0)\n",
    "    return user_embedding\n",
    "\n",
    "#  추천 Top-N (embedding 기반 cosine similarity)\n",
    "def recommend_hybrid_top_n(user_id, n=10):\n",
    "    user_emb = get_user_embedding(user_id)\n",
    "    if user_emb is None:\n",
    "        print(f\" 사용자 {user_id}는 학습된 embedding 없음\")\n",
    "        return []\n",
    "\n",
    "    # 안읽은 책만 추천 대상\n",
    "    read_books = df_filtered[df_filtered['user_id'] == user_id]['isbn'].unique()\n",
    "    unread_isbns = [isbn for isbn in isbn_to_embedding.keys() if isbn not in read_books.astype(str)]\n",
    "\n",
    "    # cosine similarity 계산\n",
    "    sims = []\n",
    "    for isbn in unread_isbns:\n",
    "        sim = cosine_similarity([user_emb], [isbn_to_embedding[isbn]])[0][0]\n",
    "        sims.append((isbn, sim))\n",
    "\n",
    "    # Top-N 반환\n",
    "    top_n = sorted(sims, key=lambda x: x[1], reverse=True)[:n]\n",
    "    recommended_isbns = [isbn for isbn, _ in top_n]\n",
    "\n",
    "    print(f\"\\n[Hybrid 추천 결과] 사용자 {user_id} Top-{n} (ISBN 리스트)\")\n",
    "    print(recommended_isbns)\n",
    "\n",
    "    return recommended_isbns\n",
    "\n",
    "#  추천 테스트 예시\n",
    "recommend_hybrid_top_n(user_id='보슬비', n=10)\n",
    "recommend_hybrid_top_n(user_id='초딩', n=10)\n",
    "recommend_hybrid_top_n(user_id='기억의집', n=10)\n",
    "recommend_hybrid_top_n(user_id='세명', n=10)\n"
   ]
  },
  {
   "cell_type": "code",
   "execution_count": null,
   "id": "953196e5-2691-41de-8311-64c82a1d7105",
   "metadata": {},
   "outputs": [],
   "source": []
  },
  {
   "cell_type": "code",
   "execution_count": 29,
   "id": "ac4320b1-1047-4487-b5e6-100db14c86cc",
   "metadata": {},
   "outputs": [],
   "source": [
    "def recommend_hybrid_top_n_with_score(user_id, n=10):\n",
    "    user_emb = get_user_embedding(user_id)\n",
    "    if user_emb is None:\n",
    "        print(f\" 사용자 {user_id}는 학습된 embedding 없음\")\n",
    "        return []\n",
    "\n",
    "    read_books = df_filtered[df_filtered['user_id'] == user_id]['isbn'].unique()\n",
    "    unread_isbns = [isbn for isbn in isbn_to_embedding.keys() if isbn not in read_books.astype(str)]\n",
    "\n",
    "    sims = []\n",
    "    for isbn in unread_isbns:\n",
    "        sim = cosine_similarity([user_emb], [isbn_to_embedding[isbn]])[0][0]\n",
    "        sims.append((isbn, sim))\n",
    "\n",
    "    top_n = sorted(sims, key=lambda x: x[1], reverse=True)[:n]\n",
    "\n",
    "    print(f\"\\n[Hybrid 추천 결과 + 유사도] 사용자 {user_id} Top-{n}\")\n",
    "    for isbn, score in top_n:\n",
    "        print(f\"ISBN: {isbn}, similarity: {score:.4f}\")\n",
    "\n",
    "    return top_n\n"
   ]
  },
  {
   "cell_type": "code",
   "execution_count": 30,
   "id": "d42d22b0-8060-40b3-a112-895fd8871cb8",
   "metadata": {},
   "outputs": [
    {
     "ename": "NameError",
     "evalue": "name 'get_user_embedding' is not defined",
     "output_type": "error",
     "traceback": [
      "\u001b[1;31m---------------------------------------------------------------------------\u001b[0m",
      "\u001b[1;31mNameError\u001b[0m                                 Traceback (most recent call last)",
      "Cell \u001b[1;32mIn[30], line 1\u001b[0m\n\u001b[1;32m----> 1\u001b[0m recommend_hybrid_top_n_with_score(\u001b[38;5;124m\"\u001b[39m\u001b[38;5;124m보슬비\u001b[39m\u001b[38;5;124m\"\u001b[39m,n\u001b[38;5;241m=\u001b[39m\u001b[38;5;241m10\u001b[39m)\n",
      "Cell \u001b[1;32mIn[29], line 2\u001b[0m, in \u001b[0;36mrecommend_hybrid_top_n_with_score\u001b[1;34m(user_id, n)\u001b[0m\n\u001b[0;32m      1\u001b[0m \u001b[38;5;28;01mdef\u001b[39;00m \u001b[38;5;21mrecommend_hybrid_top_n_with_score\u001b[39m(user_id, n\u001b[38;5;241m=\u001b[39m\u001b[38;5;241m10\u001b[39m):\n\u001b[1;32m----> 2\u001b[0m     user_emb \u001b[38;5;241m=\u001b[39m get_user_embedding(user_id)\n\u001b[0;32m      3\u001b[0m     \u001b[38;5;28;01mif\u001b[39;00m user_emb \u001b[38;5;129;01mis\u001b[39;00m \u001b[38;5;28;01mNone\u001b[39;00m:\n\u001b[0;32m      4\u001b[0m         \u001b[38;5;28mprint\u001b[39m(\u001b[38;5;124mf\u001b[39m\u001b[38;5;124m\"\u001b[39m\u001b[38;5;124m 사용자 \u001b[39m\u001b[38;5;132;01m{\u001b[39;00muser_id\u001b[38;5;132;01m}\u001b[39;00m\u001b[38;5;124m는 학습된 embedding 없음\u001b[39m\u001b[38;5;124m\"\u001b[39m)\n",
      "\u001b[1;31mNameError\u001b[0m: name 'get_user_embedding' is not defined"
     ]
    }
   ],
   "source": [
    "recommend_hybrid_top_n_with_score(\"보슬비\",n=10)"
   ]
  },
  {
   "cell_type": "code",
   "execution_count": 29,
   "id": "780c5d29-0a85-4d14-baec-bde0768151bc",
   "metadata": {},
   "outputs": [],
   "source": [
    "import json\n",
    "\n",
    "def recommend_hybrid_top_n_json(user_id, n=10):\n",
    "    top_n = recommend_hybrid_top_n_with_score(user_id, n)\n",
    "    \n",
    "    result = [\n",
    "        {\n",
    "            'isbn': isbn,\n",
    "            'similarity': float(f\"{score:.4f}\")\n",
    "        }\n",
    "        for isbn, score in top_n\n",
    "    ]\n",
    "\n",
    "    json_result = json.dumps(result, ensure_ascii=False, indent=2)\n",
    "    print(f\"\\n[Hybrid 추천 결과] 사용자 {user_id} Top-{n} (JSON)\")\n",
    "    print(json_result)\n",
    "\n",
    "    return json_result\n"
   ]
  },
  {
   "cell_type": "code",
   "execution_count": 30,
   "id": "43148074-4a3a-4090-b010-e857f6b2c596",
   "metadata": {},
   "outputs": [
    {
     "name": "stdout",
     "output_type": "stream",
     "text": [
      "\n",
      "[Hybrid 추천 결과 + 유사도] 사용자 보슬비 Top-10\n",
      "ISBN: 9791187498100, similarity: 0.8109\n",
      "ISBN: 9788994343921, similarity: 0.8095\n",
      "ISBN: 9788985712682, similarity: 0.8069\n",
      "ISBN: 9791160486735, similarity: 0.8065\n",
      "ISBN: 9791185014562, similarity: 0.8044\n",
      "ISBN: 9788992555531, similarity: 0.8042\n",
      "ISBN: 9788984372757, similarity: 0.8003\n",
      "ISBN: 9788937473197, similarity: 0.8001\n",
      "ISBN: 9788936472016, similarity: 0.7921\n",
      "ISBN: 9788954653848, similarity: 0.7911\n",
      "\n",
      "[Hybrid 추천 결과] 사용자 보슬비 Top-10 (JSON)\n",
      "[\n",
      "  {\n",
      "    \"isbn\": \"9791187498100\",\n",
      "    \"similarity\": 0.8109\n",
      "  },\n",
      "  {\n",
      "    \"isbn\": \"9788994343921\",\n",
      "    \"similarity\": 0.8095\n",
      "  },\n",
      "  {\n",
      "    \"isbn\": \"9788985712682\",\n",
      "    \"similarity\": 0.8069\n",
      "  },\n",
      "  {\n",
      "    \"isbn\": \"9791160486735\",\n",
      "    \"similarity\": 0.8065\n",
      "  },\n",
      "  {\n",
      "    \"isbn\": \"9791185014562\",\n",
      "    \"similarity\": 0.8044\n",
      "  },\n",
      "  {\n",
      "    \"isbn\": \"9788992555531\",\n",
      "    \"similarity\": 0.8042\n",
      "  },\n",
      "  {\n",
      "    \"isbn\": \"9788984372757\",\n",
      "    \"similarity\": 0.8003\n",
      "  },\n",
      "  {\n",
      "    \"isbn\": \"9788937473197\",\n",
      "    \"similarity\": 0.8001\n",
      "  },\n",
      "  {\n",
      "    \"isbn\": \"9788936472016\",\n",
      "    \"similarity\": 0.7921\n",
      "  },\n",
      "  {\n",
      "    \"isbn\": \"9788954653848\",\n",
      "    \"similarity\": 0.7911\n",
      "  }\n",
      "]\n"
     ]
    },
    {
     "data": {
      "text/plain": [
       "'[\\n  {\\n    \"isbn\": \"9791187498100\",\\n    \"similarity\": 0.8109\\n  },\\n  {\\n    \"isbn\": \"9788994343921\",\\n    \"similarity\": 0.8095\\n  },\\n  {\\n    \"isbn\": \"9788985712682\",\\n    \"similarity\": 0.8069\\n  },\\n  {\\n    \"isbn\": \"9791160486735\",\\n    \"similarity\": 0.8065\\n  },\\n  {\\n    \"isbn\": \"9791185014562\",\\n    \"similarity\": 0.8044\\n  },\\n  {\\n    \"isbn\": \"9788992555531\",\\n    \"similarity\": 0.8042\\n  },\\n  {\\n    \"isbn\": \"9788984372757\",\\n    \"similarity\": 0.8003\\n  },\\n  {\\n    \"isbn\": \"9788937473197\",\\n    \"similarity\": 0.8001\\n  },\\n  {\\n    \"isbn\": \"9788936472016\",\\n    \"similarity\": 0.7921\\n  },\\n  {\\n    \"isbn\": \"9788954653848\",\\n    \"similarity\": 0.7911\\n  }\\n]'"
      ]
     },
     "execution_count": 30,
     "metadata": {},
     "output_type": "execute_result"
    }
   ],
   "source": [
    "recommend_hybrid_top_n_json('보슬비', n = 10)"
   ]
  },
  {
   "cell_type": "code",
   "execution_count": 32,
   "id": "1986bf76-bf08-4072-af8a-4e15dd1b9e2b",
   "metadata": {},
   "outputs": [
    {
     "name": "stdout",
     "output_type": "stream",
     "text": [
      " 임베딩 캐싱 저장 완료 (isbn_to_embedding.pkl)\n",
      " 임베딩 캐싱 불러오기 완료\n"
     ]
    }
   ],
   "source": [
    "import pickle\n",
    "\n",
    "# 저장\n",
    "with open('isbn_to_embedding.pkl', 'wb') as f:\n",
    "    pickle.dump(isbn_to_embedding, f)\n",
    "print(\" 임베딩 캐싱 저장 완료 (isbn_to_embedding.pkl)\")\n",
    "\n",
    "# 불러오기\n",
    "with open('isbn_to_embedding.pkl', 'rb') as f:\n",
    "    isbn_to_embedding = pickle.load(f)\n",
    "print(\" 임베딩 캐싱 불러오기 완료\")\n"
   ]
  },
  {
   "cell_type": "code",
   "execution_count": null,
   "id": "c4bee01e-c479-4b2a-b192-10c2b536f73c",
   "metadata": {},
   "outputs": [],
   "source": []
  },
  {
   "cell_type": "code",
   "execution_count": null,
   "id": "97153dec-3c2d-4db2-9fb7-fa951dc25125",
   "metadata": {},
   "outputs": [],
   "source": [
    "# SVD 모델이 이미 학습된 상태에서 사용 (model = SVD(...) → model.fit(trainset))\n",
    "\n",
    "# Hybrid blending 추천 함수\n",
    "def recommend_blended_top_n(user_id, n=10, alpha=0.8, beta=0.2):\n",
    "    # 사용자 embedding\n",
    "    user_emb = get_user_embedding(user_id)\n",
    "    if user_emb is None:\n",
    "        print(f\" 사용자 {user_id}는 학습된 embedding 없음\")\n",
    "        return []\n",
    "\n",
    "    # 읽은 책 제외\n",
    "    read_books = df_filtered[df_filtered['user_id'] == user_id]['isbn'].unique()\n",
    "    unread_isbns = [isbn for isbn in isbn_to_embedding.keys() if isbn not in read_books.astype(str)]\n",
    "\n",
    "    results = []\n",
    "\n",
    "    for isbn in unread_isbns:\n",
    "        # SVD 예측\n",
    "        svd_pred = model.predict(user_id, str(isbn)).est  # SVD predicted rating\n",
    "\n",
    "        # LLM cosine similarity\n",
    "        llm_sim = cosine_similarity([user_emb], [isbn_to_embedding[isbn]])[0][0]\n",
    "\n",
    "        # Blended score 계산\n",
    "        final_score = alpha * svd_pred + beta * llm_sim\n",
    "\n",
    "        results.append((isbn, svd_pred, llm_sim, final_score))\n",
    "\n",
    "    # Top-N 선정\n",
    "    top_n = sorted(results, key=lambda x: x[3], reverse=True)[:n]\n",
    "\n",
    "    # 결과 출력\n",
    "    print(f\"\\n[Blended 추천 결과] 사용자 {user_id} Top-{n} (α={alpha}, β={beta})\")\n",
    "    for isbn, svd_pred, llm_sim, final_score in top_n:\n",
    "        print(f\"ISBN: {isbn}, SVD_pred: {svd_pred:.2f}, LLM_sim: {llm_sim:.4f}, Final_score: {final_score:.4f}\")\n",
    "\n",
    "    return top_n\n"
   ]
  },
  {
   "cell_type": "code",
   "execution_count": null,
   "id": "e4019452-8fee-4f4c-ab6b-8655b62a99eb",
   "metadata": {},
   "outputs": [],
   "source": [
    "# 예시 호출\n",
    "recommend_blended_top_n(user_id='보슬비', n=10, alpha=0.8, beta=0.2)\n",
    "recommend_blended_top_n(user_id='초딩', n=10, alpha=0.8, beta=0.2)\n",
    "recommend_blended_top_n(user_id='기억의집', n=10, alpha=0.8, beta=0.2)\n",
    "recommend_blended_top_n(user_id='세명', n=10, alpha=0.8, beta=0.2)\n"
   ]
  },
  {
   "cell_type": "code",
   "execution_count": null,
   "id": "38b81adb-d34a-4910-bb78-e02e2745d644",
   "metadata": {},
   "outputs": [],
   "source": []
  },
  {
   "cell_type": "code",
   "execution_count": null,
   "id": "19f27f6a-a45e-473b-b5a3-2305409bfbe5",
   "metadata": {},
   "outputs": [],
   "source": []
  },
  {
   "cell_type": "code",
   "execution_count": 39,
   "id": "a2429aa8-4850-49a9-9e02-c6f65476f99d",
   "metadata": {},
   "outputs": [],
   "source": [
    "def recommend_blended_top_n(user_id, n=10, alpha=0.8, beta=0.2):\n",
    "    user_emb = get_user_embedding(user_id)\n",
    "\n",
    "    read_books = df_filtered[df_filtered['user_id'] == user_id]['isbn'].unique()\n",
    "    unread_isbns = [isbn for isbn in isbn_to_embedding.keys() if isbn not in read_books.astype(str)]\n",
    "\n",
    "    results = []\n",
    "\n",
    "    # Case Hybrid 추천 (embedding 있음)\n",
    "    if user_emb is not None:\n",
    "        for isbn in unread_isbns:\n",
    "            svd_pred = model.predict(user_id, str(isbn)).est\n",
    "            llm_sim = cosine_similarity([user_emb], [isbn_to_embedding[isbn]])[0][0]\n",
    "            final_score = alpha * svd_pred + beta * llm_sim\n",
    "            results.append((isbn, svd_pred, llm_sim, final_score))\n",
    "\n",
    "        top_n = sorted(results, key=lambda x: x[3], reverse=True)[:n]\n",
    "\n",
    "        print(f\"\\n[Blended 추천 결과] 사용자 {user_id} Top-{n} (α={alpha}, β={beta})\")\n",
    "        for isbn, svd_pred, llm_sim, final_score in top_n:\n",
    "            print(f\"ISBN: {isbn}, SVD_pred: {svd_pred:.2f}, LLM_sim: {llm_sim:.4f}, Final_score: {final_score:.4f}\")\n",
    "\n",
    "    # Case  Fallback → SVD만 추천\n",
    "    else:\n",
    "        print(f\"\\사용자 {user_id}는 embedding 없음 → SVD 추천만 사용합니다\")\n",
    "        for isbn in unread_isbns:\n",
    "            svd_pred = model.predict(user_id, str(isbn)).est\n",
    "            results.append((isbn, svd_pred))\n",
    "\n",
    "        top_n = sorted(results, key=lambda x: x[1], reverse=True)[:n]\n",
    "\n",
    "        print(f\"\\n[SVD Fallback 추천 결과] 사용자 {user_id} Top-{n}\")\n",
    "        for isbn, svd_pred in top_n:\n",
    "            print(f\"ISBN: {isbn}, SVD_pred: {svd_pred:.2f}\")\n",
    "\n",
    "    return top_n\n"
   ]
  },
  {
   "cell_type": "code",
   "execution_count": 40,
   "id": "d917e70a-a728-4b10-8a5f-0740edd74fba",
   "metadata": {},
   "outputs": [
    {
     "name": "stdout",
     "output_type": "stream",
     "text": [
      "\n",
      "[Blended 추천 결과] 사용자 보슬비 Top-10 (α=0.8, β=0.2)\n",
      "ISBN: 9791187498100, SVD_pred: 3.20, LLM_sim: 0.8109, Final_score: 2.7248\n",
      "ISBN: 9788994343921, SVD_pred: 3.20, LLM_sim: 0.8095, Final_score: 2.7245\n",
      "ISBN: 9788985712682, SVD_pred: 3.20, LLM_sim: 0.8069, Final_score: 2.7240\n",
      "ISBN: 9791160486735, SVD_pred: 3.20, LLM_sim: 0.8065, Final_score: 2.7239\n",
      "ISBN: 9791185014562, SVD_pred: 3.20, LLM_sim: 0.8044, Final_score: 2.7235\n",
      "ISBN: 9788992555531, SVD_pred: 3.20, LLM_sim: 0.8042, Final_score: 2.7235\n",
      "ISBN: 9788984372757, SVD_pred: 3.20, LLM_sim: 0.8003, Final_score: 2.7227\n",
      "ISBN: 9788937473197, SVD_pred: 3.20, LLM_sim: 0.8001, Final_score: 2.7226\n",
      "ISBN: 9788936472016, SVD_pred: 3.20, LLM_sim: 0.7921, Final_score: 2.7210\n",
      "ISBN: 9788954653848, SVD_pred: 3.20, LLM_sim: 0.7911, Final_score: 2.7208\n",
      "\n",
      "[Blended 추천 결과] 사용자 초딩 Top-10 (α=0.8, β=0.2)\n",
      "ISBN: 9788936472016, SVD_pred: 3.00, LLM_sim: 0.7389, Final_score: 2.5473\n",
      "ISBN: 9788954613392, SVD_pred: 3.00, LLM_sim: 0.7242, Final_score: 2.5443\n",
      "ISBN: 9788970128719, SVD_pred: 3.00, LLM_sim: 0.7217, Final_score: 2.5438\n",
      "ISBN: 9791191587524, SVD_pred: 3.00, LLM_sim: 0.7175, Final_score: 2.5430\n",
      "ISBN: 9788954625470, SVD_pred: 3.00, LLM_sim: 0.7136, Final_score: 2.5422\n",
      "ISBN: 9788984372757, SVD_pred: 3.00, LLM_sim: 0.7098, Final_score: 2.5414\n",
      "ISBN: 9788901280684, SVD_pred: 3.00, LLM_sim: 0.7001, Final_score: 2.5395\n",
      "ISBN: 9788936456221, SVD_pred: 3.00, LLM_sim: 0.6997, Final_score: 2.5394\n",
      "ISBN: 9791196075170, SVD_pred: 3.00, LLM_sim: 0.6971, Final_score: 2.5389\n",
      "ISBN: 9788984989146, SVD_pred: 3.00, LLM_sim: 0.6971, Final_score: 2.5389\n",
      "\n",
      "[Blended 추천 결과] 사용자 기억의집 Top-10 (α=0.8, β=0.2)\n",
      "ISBN: 9791196394509, SVD_pred: 2.34, LLM_sim: 0.7269, Final_score: 2.0149\n",
      "ISBN: 9788936472016, SVD_pred: 2.34, LLM_sim: 0.7221, Final_score: 2.0139\n",
      "ISBN: 9788991147768, SVD_pred: 2.34, LLM_sim: 0.7091, Final_score: 2.0113\n",
      "ISBN: 9791197021688, SVD_pred: 2.34, LLM_sim: 0.7075, Final_score: 2.0110\n",
      "ISBN: 9788954611275, SVD_pred: 2.34, LLM_sim: 0.6975, Final_score: 2.0090\n",
      "ISBN: 9788991622869, SVD_pred: 2.34, LLM_sim: 0.6917, Final_score: 2.0079\n",
      "ISBN: 9788954637237, SVD_pred: 2.34, LLM_sim: 0.6906, Final_score: 2.0076\n",
      "ISBN: 9788934923503, SVD_pred: 2.34, LLM_sim: 0.6888, Final_score: 2.0073\n",
      "ISBN: 9788954621496, SVD_pred: 2.34, LLM_sim: 0.6859, Final_score: 2.0067\n",
      "ISBN: 9791190413152, SVD_pred: 2.34, LLM_sim: 0.6822, Final_score: 2.0060\n",
      "\\사용자 세명는 embedding 없음 → SVD 추천만 사용합니다\n",
      "\n",
      "[SVD Fallback 추천 결과] 사용자 세명 Top-10\n",
      "ISBN: 8809332970027, SVD_pred: 2.93\n",
      "ISBN: 8809332970874, SVD_pred: 2.93\n",
      "ISBN: 9788901033518, SVD_pred: 2.93\n",
      "ISBN: 9788901035208, SVD_pred: 2.93\n",
      "ISBN: 9788901036373, SVD_pred: 2.93\n",
      "ISBN: 9788901044873, SVD_pred: 2.93\n",
      "ISBN: 9788901047799, SVD_pred: 2.93\n",
      "ISBN: 9788901047904, SVD_pred: 2.93\n",
      "ISBN: 9788901049847, SVD_pred: 2.93\n",
      "ISBN: 9788901052922, SVD_pred: 2.93\n"
     ]
    },
    {
     "data": {
      "text/plain": [
       "[('8809332970027', 2.9336271734735138),\n",
       " ('8809332970874', 2.9336271734735138),\n",
       " ('9788901033518', 2.9336271734735138),\n",
       " ('9788901035208', 2.9336271734735138),\n",
       " ('9788901036373', 2.9336271734735138),\n",
       " ('9788901044873', 2.9336271734735138),\n",
       " ('9788901047799', 2.9336271734735138),\n",
       " ('9788901047904', 2.9336271734735138),\n",
       " ('9788901049847', 2.9336271734735138),\n",
       " ('9788901052922', 2.9336271734735138)]"
      ]
     },
     "execution_count": 40,
     "metadata": {},
     "output_type": "execute_result"
    }
   ],
   "source": [
    "recommend_blended_top_n(user_id='보슬비', n=10)\n",
    "recommend_blended_top_n(user_id='초딩', n=10)\n",
    "recommend_blended_top_n(user_id='기억의집', n=10)\n",
    "recommend_blended_top_n(user_id='세명', n=10)\n"
   ]
  },
  {
   "cell_type": "code",
   "execution_count": null,
   "id": "ded69fbe-1c1e-4e13-89a9-5e8fa7b1435e",
   "metadata": {},
   "outputs": [],
   "source": []
  },
  {
   "cell_type": "code",
   "execution_count": 43,
   "id": "66cfbe17-41f2-4469-a48d-cc02eca577ff",
   "metadata": {},
   "outputs": [],
   "source": [
    "import json\n",
    "\n",
    "def recommend_blended_top_n_json(user_id, n=10, alpha=0.8, beta=0.2):\n",
    "    user_emb = get_user_embedding(user_id)\n",
    "\n",
    "    read_books = df_filtered[df_filtered['user_id'] == user_id]['isbn'].unique()\n",
    "    unread_isbns = [isbn for isbn in isbn_to_embedding.keys() if isbn not in read_books.astype(str)]\n",
    "\n",
    "    results = []\n",
    "\n",
    "    # Case  Hybrid 추천 (embedding 있음)\n",
    "    if user_emb is not None:\n",
    "        for isbn in unread_isbns:\n",
    "            svd_pred = model.predict(user_id, str(isbn)).est\n",
    "            llm_sim = cosine_similarity([user_emb], [isbn_to_embedding[isbn]])[0][0]\n",
    "\n",
    "            final_score = alpha * svd_pred + beta * float(llm_sim)  # float() 적용\n",
    "\n",
    "            results.append({\n",
    "                'isbn': isbn,\n",
    "                'svd_pred': round(svd_pred, 2),\n",
    "                'llm_sim': round(float(llm_sim), 4),  # float() 적용\n",
    "                'final_score': round(final_score, 4)\n",
    "            })\n",
    "\n",
    "        top_n = sorted(results, key=lambda x: x['final_score'], reverse=True)[:n]\n",
    "\n",
    "        print(f\"\\n[Blended 추천 결과 + JSON] 사용자 {user_id} Top-{n} (α={alpha}, β={beta})\")\n",
    "        print(json.dumps(top_n, ensure_ascii=False, indent=2))\n",
    "\n",
    "    # Case  Fallback → SVD만 추천\n",
    "    else:\n",
    "        print(f\"\\n 사용자 {user_id}는 embedding 없음 → SVD 추천만 사용합니다\")\n",
    "        for isbn in unread_isbns:\n",
    "            svd_pred = model.predict(user_id, str(isbn)).est\n",
    "            results.append({\n",
    "                'isbn': isbn,\n",
    "                'svd_pred': round(svd_pred, 2)\n",
    "            })\n",
    "\n",
    "        top_n = sorted(results, key=lambda x: x['svd_pred'], reverse=True)[:n]\n",
    "\n",
    "        print(f\"\\n[SVD Fallback 추천 결과 + JSON] 사용자 {user_id} Top-{n}\")\n",
    "        print(json.dumps(top_n, ensure_ascii=False, indent=2))\n",
    "\n",
    "    # JSON 객체 반환\n",
    "    return json.dumps(top_n, ensure_ascii=False, indent=2)\n"
   ]
  },
  {
   "cell_type": "code",
   "execution_count": 44,
   "id": "d987ac83-3b9b-49bd-8204-54bcf7c04cfa",
   "metadata": {},
   "outputs": [
    {
     "name": "stdout",
     "output_type": "stream",
     "text": [
      "\n",
      "[Blended 추천 결과 + JSON] 사용자 보슬비 Top-10 (α=0.8, β=0.2)\n",
      "[\n",
      "  {\n",
      "    \"isbn\": \"9791187498100\",\n",
      "    \"svd_pred\": 3.2,\n",
      "    \"llm_sim\": 0.8109,\n",
      "    \"final_score\": 2.7248\n",
      "  },\n",
      "  {\n",
      "    \"isbn\": \"9788994343921\",\n",
      "    \"svd_pred\": 3.2,\n",
      "    \"llm_sim\": 0.8095,\n",
      "    \"final_score\": 2.7245\n",
      "  },\n",
      "  {\n",
      "    \"isbn\": \"9788985712682\",\n",
      "    \"svd_pred\": 3.2,\n",
      "    \"llm_sim\": 0.8069,\n",
      "    \"final_score\": 2.724\n",
      "  },\n",
      "  {\n",
      "    \"isbn\": \"9791160486735\",\n",
      "    \"svd_pred\": 3.2,\n",
      "    \"llm_sim\": 0.8065,\n",
      "    \"final_score\": 2.7239\n",
      "  },\n",
      "  {\n",
      "    \"isbn\": \"9788992555531\",\n",
      "    \"svd_pred\": 3.2,\n",
      "    \"llm_sim\": 0.8042,\n",
      "    \"final_score\": 2.7235\n",
      "  },\n",
      "  {\n",
      "    \"isbn\": \"9791185014562\",\n",
      "    \"svd_pred\": 3.2,\n",
      "    \"llm_sim\": 0.8044,\n",
      "    \"final_score\": 2.7235\n",
      "  },\n",
      "  {\n",
      "    \"isbn\": \"9788984372757\",\n",
      "    \"svd_pred\": 3.2,\n",
      "    \"llm_sim\": 0.8003,\n",
      "    \"final_score\": 2.7227\n",
      "  },\n",
      "  {\n",
      "    \"isbn\": \"9788937473197\",\n",
      "    \"svd_pred\": 3.2,\n",
      "    \"llm_sim\": 0.8001,\n",
      "    \"final_score\": 2.7226\n",
      "  },\n",
      "  {\n",
      "    \"isbn\": \"9788936472016\",\n",
      "    \"svd_pred\": 3.2,\n",
      "    \"llm_sim\": 0.7921,\n",
      "    \"final_score\": 2.721\n",
      "  },\n",
      "  {\n",
      "    \"isbn\": \"9788954653848\",\n",
      "    \"svd_pred\": 3.2,\n",
      "    \"llm_sim\": 0.7911,\n",
      "    \"final_score\": 2.7208\n",
      "  }\n",
      "]\n"
     ]
    }
   ],
   "source": [
    "# JSON 결과 확인\n",
    "json_result = recommend_blended_top_n_json(user_id='보슬비', n=10)\n",
    "\n",
    "# 필요 시 → 프론트에 json_result 반환 가능\n",
    "# Django API에서는 return Response(json_result, content_type='application/json') 형태로 사용\n"
   ]
  },
  {
   "cell_type": "code",
   "execution_count": null,
   "id": "2c7cde97-d4ef-4356-9519-14e3e31c2c55",
   "metadata": {},
   "outputs": [],
   "source": []
  },
  {
   "cell_type": "code",
   "execution_count": null,
   "id": "a621d23c-b8e3-454b-bccb-808861246b0c",
   "metadata": {},
   "outputs": [],
   "source": [
    "# views.py\n",
    "\n",
    "from django.http import JsonResponse\n",
    "import json\n",
    "\n",
    "# Hybrid 추천기 함수 사용 (지금 만든 recommend_blended_top_n_json 함수 그대로 사용)\n",
    "# 이 함수는 문자열(JSON)을 반환하므로 → JsonResponse에 다시 파싱 필요\n",
    "\n",
    "def recommend_view(request, user_id):\n",
    "    n = int(request.GET.get('n', 10))  # URL 파라미터로 n 개수 받기 (기본 10개)\n",
    "\n",
    "    # 추천 결과 얻기\n",
    "    result_json_str = recommend_blended_top_n_json(user_id=user_id, n=n)\n",
    "\n",
    "    # 문자열 JSON → dict 변환\n",
    "    result_json = json.loads(result_json_str)\n",
    "\n",
    "    # API 응답\n",
    "    return JsonResponse(result_json, safe=False, json_dumps_params={'ensure_ascii': False, 'indent': 2})\n"
   ]
  },
  {
   "cell_type": "code",
   "execution_count": null,
   "id": "ad5cd87a-ac53-4026-a336-78e433cfbf64",
   "metadata": {},
   "outputs": [],
   "source": []
  },
  {
   "cell_type": "code",
   "execution_count": null,
   "id": "08e2aa3c-1968-4d9c-b88f-b293b5d18bfa",
   "metadata": {},
   "outputs": [],
   "source": [
    "# urls.py\n",
    "\n",
    "from django.urls import path\n",
    "from . import views\n",
    "\n",
    "urlpatterns = [\n",
    "    path('recommend/<str:user_id>/', views.recommend_view, name='recommend'),\n",
    "]\n"
   ]
  },
  {
   "cell_type": "code",
   "execution_count": null,
   "id": "cfe032dd-deaf-4199-ac3d-9b372c82287f",
   "metadata": {},
   "outputs": [],
   "source": [
    "# 호출예시\n",
    "GET /recommend/보슬비/?n=10\n"
   ]
  }
 ],
 "metadata": {
  "kernelspec": {
   "display_name": "finalpj",
   "language": "python",
   "name": "finalpj"
  },
  "language_info": {
   "codemirror_mode": {
    "name": "ipython",
    "version": 3
   },
   "file_extension": ".py",
   "mimetype": "text/x-python",
   "name": "python",
   "nbconvert_exporter": "python",
   "pygments_lexer": "ipython3",
   "version": "3.12.9"
  }
 },
 "nbformat": 4,
 "nbformat_minor": 5
}
