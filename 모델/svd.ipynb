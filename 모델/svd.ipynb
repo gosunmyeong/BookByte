{
 "cells": [
  {
   "cell_type": "code",
   "execution_count": 34,
   "id": "6c1936c5-dbff-48ac-8c81-165f2b152b4b",
   "metadata": {},
   "outputs": [],
   "source": [
    "from surprise import SVD, Dataset, Reader\n",
    "from surprise.model_selection import train_test_split\n",
    "from surprise import accuracy\n",
    "import pandas as pd\n",
    "from surprise.model_selection import GridSearchCV\n",
    "\n",
    "# from transformers import AutoTokenizer, AutoModelForCausalLM\n",
    "# import torch"
   ]
  },
  {
   "cell_type": "code",
   "execution_count": 14,
   "id": "e54de672-0a16-45d2-8416-420f3383e357",
   "metadata": {},
   "outputs": [
    {
     "name": "stderr",
     "output_type": "stream",
     "text": [
      "C:\\Users\\ghg31\\AppData\\Local\\Temp\\ipykernel_25296\\228154034.py:1: DtypeWarning: Columns (8,9) have mixed types. Specify dtype option on import or set low_memory=False.\n",
      "  df = pd.read_csv('전처리_토요일.csv')\n"
     ]
    }
   ],
   "source": [
    "df = pd.read_csv('전처리_토요일.csv')"
   ]
  },
  {
   "cell_type": "code",
   "execution_count": 16,
   "id": "beb0f12e-293e-40a1-96e9-35a9bdebbee4",
   "metadata": {},
   "outputs": [],
   "source": [
    "user_stats = df.groupby('user_id')['rating'].agg(['mean', 'std'])\n",
    "biased_users = user_stats[(user_stats['std'] == 0) & (user_stats['mean'] == 5)].index\n",
    "df_filtered = df[~df['user_id'].isin(biased_users)].copy()"
   ]
  },
  {
   "cell_type": "code",
   "execution_count": 18,
   "id": "5f8214b9-25e2-4d17-b1ba-3a6046ac3ce9",
   "metadata": {},
   "outputs": [
    {
     "data": {
      "text/html": [
       "<div>\n",
       "<style scoped>\n",
       "    .dataframe tbody tr th:only-of-type {\n",
       "        vertical-align: middle;\n",
       "    }\n",
       "\n",
       "    .dataframe tbody tr th {\n",
       "        vertical-align: top;\n",
       "    }\n",
       "\n",
       "    .dataframe thead th {\n",
       "        text-align: right;\n",
       "    }\n",
       "</style>\n",
       "<table border=\"1\" class=\"dataframe\">\n",
       "  <thead>\n",
       "    <tr style=\"text-align: right;\">\n",
       "      <th></th>\n",
       "      <th>title</th>\n",
       "      <th>counts</th>\n",
       "    </tr>\n",
       "  </thead>\n",
       "  <tbody>\n",
       "    <tr>\n",
       "      <th>372</th>\n",
       "      <td>나미야 잡화점의 기적 (양장)</td>\n",
       "      <td>300</td>\n",
       "    </tr>\n",
       "    <tr>\n",
       "      <th>1513</th>\n",
       "      <td>오베라는 남자</td>\n",
       "      <td>283</td>\n",
       "    </tr>\n",
       "    <tr>\n",
       "      <th>69</th>\n",
       "      <td>7년의 밤</td>\n",
       "      <td>264</td>\n",
       "    </tr>\n",
       "    <tr>\n",
       "      <th>1429</th>\n",
       "      <td>엄마를 부탁해</td>\n",
       "      <td>261</td>\n",
       "    </tr>\n",
       "    <tr>\n",
       "      <th>665</th>\n",
       "      <td>라면을 끓이며</td>\n",
       "      <td>248</td>\n",
       "    </tr>\n",
       "    <tr>\n",
       "      <th>...</th>\n",
       "      <td>...</td>\n",
       "      <td>...</td>\n",
       "    </tr>\n",
       "    <tr>\n",
       "      <th>1626</th>\n",
       "      <td>이 중에 1명, 여동생이 있다! 4</td>\n",
       "      <td>1</td>\n",
       "    </tr>\n",
       "    <tr>\n",
       "      <th>699</th>\n",
       "      <td>룬의 아이들 - 블러디드 2</td>\n",
       "      <td>1</td>\n",
       "    </tr>\n",
       "    <tr>\n",
       "      <th>1126</th>\n",
       "      <td>세계 미스터리 걸작선 01 : 살인자 외</td>\n",
       "      <td>1</td>\n",
       "    </tr>\n",
       "    <tr>\n",
       "      <th>1030</th>\n",
       "      <td>사쿠라장의 애완 그녀 3</td>\n",
       "      <td>1</td>\n",
       "    </tr>\n",
       "    <tr>\n",
       "      <th>1535</th>\n",
       "      <td>왜 당신은 다른 사람을 위해 살고 있는가</td>\n",
       "      <td>1</td>\n",
       "    </tr>\n",
       "  </tbody>\n",
       "</table>\n",
       "<p>2242 rows × 2 columns</p>\n",
       "</div>"
      ],
      "text/plain": [
       "                       title  counts\n",
       "372         나미야 잡화점의 기적 (양장)     300\n",
       "1513                 오베라는 남자     283\n",
       "69                     7년의 밤     264\n",
       "1429                 엄마를 부탁해     261\n",
       "665                  라면을 끓이며     248\n",
       "...                      ...     ...\n",
       "1626     이 중에 1명, 여동생이 있다! 4       1\n",
       "699          룬의 아이들 - 블러디드 2       1\n",
       "1126  세계 미스터리 걸작선 01 : 살인자 외       1\n",
       "1030           사쿠라장의 애완 그녀 3       1\n",
       "1535  왜 당신은 다른 사람을 위해 살고 있는가       1\n",
       "\n",
       "[2242 rows x 2 columns]"
      ]
     },
     "execution_count": 18,
     "metadata": {},
     "output_type": "execute_result"
    }
   ],
   "source": [
    " df_filtered.groupby(\"title\").size().reset_index(name = \"counts\").sort_values(by = \"counts\", ascending = False)"
   ]
  },
  {
   "cell_type": "code",
   "execution_count": 20,
   "id": "74be8b0f-3370-486e-aa46-b3c527870d2b",
   "metadata": {},
   "outputs": [
    {
     "data": {
      "text/plain": [
       "array(['어떻게 민주주의는 무너지는가', '사람, 장소, 환대', '국가는 왜 실패하는가 (리커버)', '예루살렘의 아이히만',\n",
       "       '가난한 아이들은 어떻게 어른이 되는가', '공정하다는 착각', '왜 세계의 절반은 굶주리는가?', '지리의 힘',\n",
       "       '페미니즘의 도전 (15주년 기념판)', '계속 가보겠습니다', '이재명의 나의 소년공 다이어리',\n",
       "       '랭스로 되돌아가다', '군주론', '노예제와 사회적 죽음', '결국 국민이 합니다 : 이재명의 인생과 정치철학',\n",
       "       '이재명의 길', '정치 성향은 어떻게 결정되는가', '공자가 죽어야 나라가 산다', '그들에게 국민은 없다',\n",
       "       '전태일평전', '소유의 종말', '당신들의 대한민국 1', '폭력과 상스러움', '좌우는 있어도 위아래는 없다',\n",
       "       '대화', '당신들의 대한민국 2', '신도 버린 사람들', '88만원 세대', '대한민국 개조론',\n",
       "       '자본주의 역사 바로 알기', '후불제 민주주의', '유러피언 드림', '운명이다', '김대중 자서전 - 전2권',\n",
       "       '불편해도 괜찮아', '이별에도 예의가 필요하다', '진보집권플랜', '닥치고 정치', '문재인의 운명 (반양장)',\n",
       "       '달려라 정봉주', '분노하라', '국가란 무엇인가', '나는 꼼수다 뒷담화', '조국 현상을 말한다 - 개정판',\n",
       "       '내가 걸은 만큼만 내 인생이다', '보수를 팝니다', '중생이 아프면 부처도 아프다',\n",
       "       '그대 아직도 부자를 꿈꾸는가', '그들은 아는, 우리만 모르는', '우리가 잘못 산 게 아니었어',\n",
       "       '21세기 자본 (양장)', '시골빵집에서 자본론을 굽다', '기록', '왜 가난한 사람들은 부자를 위해 투표하는가',\n",
       "       '보수는 어떻게 지배하는가', '육식의 종말', '송곳 1~6 세트 - 전6권', '개인주의자 선언',\n",
       "       '남자들은 자꾸 나를 가르치려 든다', '주기자의 사법활극', '심리정치', '익숙한 절망 불편한 희망',\n",
       "       '1219 끝이 시작이다', '우리도 행복할 수 있을까', '우리는 모두 페미니스트가 되어야 합니다',\n",
       "       '우리에겐 언어가 필요하다', '악마 기자 정의 사제', '필리버스터', '페미니즘의 도전', '악어 프로젝트',\n",
       "       '문재인의 운명 (특별판)', '주진우의 이명박 추격기', '대한민국이 묻는다', '모두를 위한 페미니즘',\n",
       "       '엄마는 페미니스트', '3층 서기실의 암호', '검사내전',\n",
       "       '문재인의 운명 취임 1주년 기념 한정판 세트 - 전2권', '말이 칼이 될 때', '대통령 문재인의 1년',\n",
       "       '노무현의 사람 사는 세상', '세상을 바꾸는 언어', '백래시', '초예측', '한번도 경험해보지 못한 나라',\n",
       "       '김지은입니다', '선량한 차별주의자', '이수정 이다혜의 범죄 영화 프로파일', '우리의 불행은 당연하지 않습니다',\n",
       "       '임계장 이야기', '2050 거주불능 지구', '조국의 시간', '눈 떠보니 선진국', '장면들',\n",
       "       '빌 게이츠, 기후재앙을 피하는 법', '사이보그가 되다', '지구를 위한다는 착각', '굿바이, 이재명',\n",
       "       '가불 선진국', '윤석열 X파일', '그리움은 아무에게나 생기지 않습니다', '지리의 힘 2',\n",
       "       '아무도 흔들 수 없는 나라', '디케의 눈물', '미스터 프레지던트', '정세현의 통찰',\n",
       "       '그의 운명에 대한 아주 개인적인 생각', '어떻게 극단적 소수가 다수를 지배하는가', '변방에서 중심으로'],\n",
       "      dtype=object)"
      ]
     },
     "execution_count": 20,
     "metadata": {},
     "output_type": "execute_result"
    }
   ],
   "source": [
    " df_filtered[df_filtered[\"genre\"] == \"사회과학\"][\"title\"].unique()"
   ]
  },
  {
   "cell_type": "code",
   "execution_count": 22,
   "id": "9ed8297a-9852-4d7c-8efe-919f65f5a990",
   "metadata": {},
   "outputs": [],
   "source": [
    "조국 = df_filtered[df_filtered[\"title\"] == \"조국의 시간\"].index"
   ]
  },
  {
   "cell_type": "code",
   "execution_count": 47,
   "id": "2936216e-01fe-4fc1-9915-6646ddca198e",
   "metadata": {},
   "outputs": [],
   "source": [
    "df_filtered = df_filtered[~df_filtered.isin(조국)]"
   ]
  },
  {
   "cell_type": "code",
   "execution_count": 26,
   "id": "adef2d29-7d54-4347-998c-96a6e7f67626",
   "metadata": {
    "scrolled": true
   },
   "outputs": [],
   "source": [
    "df_filtered = df_filtered[df_filtered[\"title\"] != \"조국의 시간\"]"
   ]
  },
  {
   "cell_type": "code",
   "execution_count": 5,
   "id": "aca1f2b8-a8c2-4e59-bd8b-6093dd87ab23",
   "metadata": {},
   "outputs": [],
   "source": [
    "reader = Reader(rating_scale=(1, 5))\n",
    "data = Dataset.load_from_df(df_filtered[['user_id', 'isbn', 'rating']], reader)"
   ]
  },
  {
   "cell_type": "code",
   "execution_count": 30,
   "id": "82eed196-5e19-44d9-8634-9a9b9a7b54ba",
   "metadata": {},
   "outputs": [
    {
     "data": {
      "text/html": [
       "<div>\n",
       "<style scoped>\n",
       "    .dataframe tbody tr th:only-of-type {\n",
       "        vertical-align: middle;\n",
       "    }\n",
       "\n",
       "    .dataframe tbody tr th {\n",
       "        vertical-align: top;\n",
       "    }\n",
       "\n",
       "    .dataframe thead th {\n",
       "        text-align: right;\n",
       "    }\n",
       "</style>\n",
       "<table border=\"1\" class=\"dataframe\">\n",
       "  <thead>\n",
       "    <tr style=\"text-align: right;\">\n",
       "      <th></th>\n",
       "      <th>user_id</th>\n",
       "      <th>isbn</th>\n",
       "      <th>rating</th>\n",
       "      <th>review</th>\n",
       "      <th>title</th>\n",
       "      <th>writer</th>\n",
       "      <th>publisher</th>\n",
       "      <th>Pub_date</th>\n",
       "      <th>re_price</th>\n",
       "      <th>sa_price</th>\n",
       "      <th>genre</th>\n",
       "      <th>description</th>\n",
       "      <th>user_mean</th>\n",
       "      <th>rating_cen</th>\n",
       "    </tr>\n",
       "  </thead>\n",
       "  <tbody>\n",
       "  </tbody>\n",
       "</table>\n",
       "</div>"
      ],
      "text/plain": [
       "Empty DataFrame\n",
       "Columns: [user_id, isbn, rating, review, title, writer, publisher, Pub_date, re_price, sa_price, genre, description, user_mean, rating_cen]\n",
       "Index: []"
      ]
     },
     "execution_count": 30,
     "metadata": {},
     "output_type": "execute_result"
    }
   ],
   "source": [
    "df_filtered[df_filtered[\"title\"] == \"조국의 시간\"]"
   ]
  },
  {
   "cell_type": "code",
   "execution_count": 32,
   "id": "56e69f5b-fc91-48ac-ad71-f3a7679ebc25",
   "metadata": {},
   "outputs": [],
   "source": [
    "df_filtered.to_csv(\"수요일_5점만 준사람제거_조국제거.csv\")"
   ]
  },
  {
   "cell_type": "code",
   "execution_count": 6,
   "id": "a2dc2ba8-5b9c-45d8-a897-e612dd11adba",
   "metadata": {},
   "outputs": [],
   "source": [
    "trainset = data.build_full_trainset()"
   ]
  },
  {
   "cell_type": "code",
   "execution_count": 19,
   "id": "d2daed3e-4459-45a3-ab0f-e118b0cada9d",
   "metadata": {},
   "outputs": [],
   "source": [
    "# GridSearchCV 수행 (데이터 전체 사용)\n",
    "param_grid = {\n",
    "    'n_epochs': [10, 20, 30],\n",
    "    'lr_all': [0.001, 0.002, 0.003],\n",
    "    'reg_all': [ 0.07, 0.09, 0.11],\n",
    "    'n_factors': [10, 20, 50]}\n",
    "\n",
    "gs = GridSearchCV(SVD, param_grid, measures=['rmse'], cv=10)\n",
    "gs.fit(data)  \n"
   ]
  },
  {
   "cell_type": "code",
   "execution_count": 20,
   "id": "55c7b0e5-10c5-4874-a0bd-c408f057780c",
   "metadata": {},
   "outputs": [
    {
     "name": "stdout",
     "output_type": "stream",
     "text": [
      "0.8901553238459885\n",
      "{'n_epochs': 30, 'lr_all': 0.003, 'reg_all': 0.07, 'n_factors': 10}\n"
     ]
    }
   ],
   "source": [
    "# 최고 RMSE 출력\n",
    "print(gs.best_score['rmse'])\n",
    " \n",
    "# 최고 RMSE의 parameter 출력\n",
    "print(gs.best_params['rmse'])\n"
   ]
  },
  {
   "cell_type": "code",
   "execution_count": 21,
   "id": "3070ec53-3f47-443b-9363-e7d14d47b4c8",
   "metadata": {},
   "outputs": [
    {
     "data": {
      "text/plain": [
       "<surprise.prediction_algorithms.matrix_factorization.SVD at 0x214b6ac81a0>"
      ]
     },
     "execution_count": 21,
     "metadata": {},
     "output_type": "execute_result"
    }
   ],
   "source": [
    "model = SVD( \n",
    "    n_epochs = 30,\n",
    "    lr_all = 0.003,\n",
    "    reg_all = 0.07,\n",
    "    n_factors = 10)\n",
    "model.fit(trainset)"
   ]
  },
  {
   "cell_type": "markdown",
   "id": "a5955164-d15b-4f23-87bb-49bf9e45cb08",
   "metadata": {},
   "source": [
    "predictions = model.test(trainset)\n",
    "rmse = accuracy.rmse(predictions)"
   ]
  },
  {
   "cell_type": "code",
   "execution_count": 24,
   "id": "fc01f287-b11f-41ca-973d-b9e961bbb09f",
   "metadata": {},
   "outputs": [
    {
     "data": {
      "text/plain": [
       "<surprise.prediction_algorithms.matrix_factorization.SVD at 0x214b6c35220>"
      ]
     },
     "execution_count": 24,
     "metadata": {},
     "output_type": "execute_result"
    }
   ],
   "source": [
    "model = SVD( \n",
    "    n_epochs = 50,\n",
    "    lr_all = 0.003,\n",
    "    reg_all = 0.07,\n",
    "    n_factors = 100)\n",
    "model.fit(trainset)"
   ]
  },
  {
   "cell_type": "code",
   "execution_count": 28,
   "id": "e38005f6-4e6f-4f08-a69f-4aad9b1f080f",
   "metadata": {},
   "outputs": [],
   "source": [
    "param_grid = {\n",
    "    'n_epochs': [30, 50, 80, 100, 120],\n",
    "    'lr_all': [0.001, 0.002, 0.003, 0.004, 0.005],\n",
    "    'reg_all': [ 0.03, 0.05, 0.07, 0.09, 0.11,],\n",
    "    'n_factors': [10, 20, 50, 60, 70]}\n",
    "\n",
    "gs = GridSearchCV(SVD, param_grid, measures=['rmse'], cv=5)\n",
    "gs.fit(data)  \n"
   ]
  },
  {
   "cell_type": "code",
   "execution_count": 29,
   "id": "eafe916a-898d-4666-82c4-867b09c4b197",
   "metadata": {},
   "outputs": [
    {
     "name": "stdout",
     "output_type": "stream",
     "text": [
      "0.8915344435741284\n",
      "{'n_epochs': 120, 'lr_all': 0.001, 'reg_all': 0.09, 'n_factors': 10}\n"
     ]
    }
   ],
   "source": [
    "# 최고 RMSE 출력\n",
    "print(gs.best_score['rmse'])\n",
    " \n",
    "# 최고 RMSE의 parameter 출력\n",
    "print(gs.best_params['rmse'])\n"
   ]
  },
  {
   "cell_type": "code",
   "execution_count": 32,
   "id": "5f8bfbc2-8834-48d1-a0d1-699b5ed1b65d",
   "metadata": {},
   "outputs": [
    {
     "data": {
      "text/plain": [
       "<surprise.prediction_algorithms.matrix_factorization.SVD at 0x214b6c37740>"
      ]
     },
     "execution_count": 32,
     "metadata": {},
     "output_type": "execute_result"
    }
   ],
   "source": [
    "model = SVD( \n",
    "    n_epochs = 120,\n",
    "    lr_all = 0.001,\n",
    "    reg_all = 0.09,\n",
    "    n_factors = 10)\n",
    "model.fit(trainset)"
   ]
  },
  {
   "cell_type": "code",
   "execution_count": null,
   "id": "c8280a80-0586-489a-8c5f-11293ccd99fb",
   "metadata": {},
   "outputs": [],
   "source": []
  },
  {
   "cell_type": "code",
   "execution_count": 33,
   "id": "49de4826-4861-4a14-ba5b-cc6716b5622d",
   "metadata": {},
   "outputs": [],
   "source": [
    "def recommend_books(model, df_filtered, user_id, n=10, isbn_to_title=None):\n",
    "    # 해당 사용자가 읽은 책 목록\n",
    "    read_books = df_filtered[df_filtered['user_id'] == user_id]['isbn'].unique()\n",
    "    all_books = df_filtered['isbn'].unique()\n",
    "    unread_books = [isbn for isbn in all_books if isbn not in read_books]\n",
    "\n",
    "    # unread_books에 대해 평점 예측\n",
    "    preds = [model.predict(user_id, isbn) for isbn in unread_books]\n",
    "    top_n = sorted(preds, key=lambda x: x.est, reverse=True)[:n]\n",
    "\n",
    "    # 출력\n",
    "    print(f\"\\n[사용자 {user_id} 추천 도서]\")\n",
    "    for pred in top_n:\n",
    "        title = isbn_to_title.get(pred.iid, \"제목 없음\") if isbn_to_title else pred.iid\n",
    "        print(f\"책 제목: {title}, 예상 평점: {pred.est:.2f}\")"
   ]
  },
  {
   "cell_type": "code",
   "execution_count": 34,
   "id": "3d917b31-3686-4e71-84e9-28ce149188f3",
   "metadata": {},
   "outputs": [
    {
     "name": "stdout",
     "output_type": "stream",
     "text": [
      "\n",
      "[사용자 보슬비 추천 도서]\n",
      "책 제목: 조국의 시간, 예상 평점: 4.78\n",
      "책 제목: 코스모스, 예상 평점: 4.75\n",
      "책 제목: 명상록 (그리스어 원전 완역본), 예상 평점: 4.74\n",
      "책 제목: 산하엽, 예상 평점: 4.71\n",
      "책 제목: 헤어질 결심 각본, 예상 평점: 4.71\n",
      "책 제목: 아픔이 길이 되려면, 예상 평점: 4.70\n",
      "책 제목: 수박 수영장, 예상 평점: 4.69\n",
      "책 제목: 대화, 예상 평점: 4.68\n",
      "책 제목: 나는 소망한다 내게 금지된 것을, 예상 평점: 4.68\n",
      "책 제목: 송곳 1~6 세트 - 전6권, 예상 평점: 4.68\n",
      "\n",
      "[사용자 책읽는나무 추천 도서]\n",
      "책 제목: 헤어질 결심 각본, 예상 평점: 4.99\n",
      "책 제목: 딕테, 예상 평점: 4.99\n",
      "책 제목: 코스모스, 예상 평점: 4.98\n",
      "책 제목: 산하엽, 예상 평점: 4.97\n",
      "책 제목: 명상록 (그리스어 원전 완역본), 예상 평점: 4.96\n",
      "책 제목: 조국의 시간, 예상 평점: 4.95\n",
      "책 제목: 나는 소망한다 내게 금지된 것을, 예상 평점: 4.95\n",
      "책 제목: 대화, 예상 평점: 4.95\n",
      "책 제목: 죄와 벌 1, 예상 평점: 4.94\n",
      "책 제목: 금요일엔 돌아오렴, 예상 평점: 4.94\n"
     ]
    }
   ],
   "source": [
    "# 책 제목 매핑\n",
    "isbn_to_title = df_filtered[['isbn', 'title']].drop_duplicates().set_index('isbn')['title'].to_dict()\n",
    "\n",
    "# 두 사용자에게 추천\n",
    "recommend_books(model, df_filtered, '보슬비', isbn_to_title=isbn_to_title)\n",
    "recommend_books(model, df_filtered, '책읽는나무', isbn_to_title=isbn_to_title)\n"
   ]
  },
  {
   "cell_type": "code",
   "execution_count": 10,
   "id": "45f5eb6f-4531-4e68-9bdc-ebe9e25e12ac",
   "metadata": {},
   "outputs": [
    {
     "name": "stdout",
     "output_type": "stream",
     "text": [
      "공통으로 읽은 책 수: 5\n",
      "각자 읽은 책 수: 40 109\n"
     ]
    }
   ],
   "source": [
    "# 두 유저가 실제로 어떤 책을 읽었는지 비교\n",
    "user1_books = set(df_filtered[df_filtered['user_id'] == '보슬비']['isbn'])\n",
    "user2_books = set(df_filtered[df_filtered['user_id'] == '책읽는나무']['isbn'])\n",
    "\n",
    "print(\"공통으로 읽은 책 수:\", len(user1_books & user2_books))\n",
    "print(\"각자 읽은 책 수:\", len(user1_books), len(user2_books))\n"
   ]
  },
  {
   "cell_type": "code",
   "execution_count": null,
   "id": "386e89b8-9254-4b7f-ba92-bb67cee03b44",
   "metadata": {},
   "outputs": [],
   "source": []
  },
  {
   "cell_type": "code",
   "execution_count": null,
   "id": "37ed3498-6631-4088-8e8e-b529276241d0",
   "metadata": {},
   "outputs": [],
   "source": [
    "# double_rating"
   ]
  },
  {
   "cell_type": "code",
   "execution_count": 67,
   "id": "c750dc8e-4ed7-4237-b413-0399e7f77d0a",
   "metadata": {},
   "outputs": [],
   "source": [
    "df_filtered[\"double_rating\"] = df_filtered[\"rating\"]*2"
   ]
  },
  {
   "cell_type": "code",
   "execution_count": 70,
   "id": "c5dead20-f90f-4a6c-9feb-2605dc004444",
   "metadata": {},
   "outputs": [],
   "source": [
    "reader = Reader(rating_scale=(1, 10))\n",
    "data2 = Dataset.load_from_df(df_filtered[['user_id', 'isbn', 'double_rating']], reader)"
   ]
  },
  {
   "cell_type": "code",
   "execution_count": 71,
   "id": "154ebeb6-418b-48f1-b517-0ee478b9b4e1",
   "metadata": {},
   "outputs": [],
   "source": [
    "trainset2 = data2.build_full_trainset()"
   ]
  },
  {
   "cell_type": "code",
   "execution_count": 72,
   "id": "9cb82274-98a3-415c-a28b-47d02a2a4c4c",
   "metadata": {},
   "outputs": [],
   "source": [
    "param_grid = {\n",
    "    'n_epochs': [30, 50, 80, 100, 120],\n",
    "    'lr_all': [0.001, 0.002, 0.003, 0.004, 0.005],\n",
    "    'reg_all': [ 0.03, 0.05, 0.07, 0.09, 0.11,],\n",
    "    'n_factors': [10, 20, 50, 60, 70]}\n",
    "\n",
    "gs2 = GridSearchCV(SVD, param_grid, measures=['rmse'], cv=5)\n",
    "gs2.fit(data2)  \n"
   ]
  },
  {
   "cell_type": "code",
   "execution_count": 74,
   "id": "fe3ce500-987e-4b41-88b4-bc87dde47f00",
   "metadata": {},
   "outputs": [
    {
     "name": "stdout",
     "output_type": "stream",
     "text": [
      "1.7854908814521901\n",
      "{'n_epochs': 30, 'lr_all': 0.004, 'reg_all': 0.11, 'n_factors': 10}\n"
     ]
    }
   ],
   "source": [
    "# 최고 RMSE 출력\n",
    "print(gs2.best_score['rmse'])\n",
    " \n",
    "# 최고 RMSE의 parameter 출력\n",
    "print(gs2.best_params['rmse'])\n"
   ]
  },
  {
   "cell_type": "code",
   "execution_count": 75,
   "id": "4b7e1ad6-7da5-4245-b5e5-5eb39e32cd38",
   "metadata": {},
   "outputs": [
    {
     "data": {
      "text/plain": [
       "<surprise.prediction_algorithms.matrix_factorization.SVD at 0x214b6fda420>"
      ]
     },
     "execution_count": 75,
     "metadata": {},
     "output_type": "execute_result"
    }
   ],
   "source": [
    "model2 = SVD( \n",
    "    n_epochs = 30,\n",
    "    lr_all = 0.004,\n",
    "    reg_all = 0.11,\n",
    "    n_factors = 10)\n",
    "model2.fit(trainset2)"
   ]
  },
  {
   "cell_type": "code",
   "execution_count": 76,
   "id": "2c9fad01-6e4f-4572-a1d4-c49bb2ce001f",
   "metadata": {},
   "outputs": [],
   "source": [
    "def recommend_books(model, df_filtered, user_id, n=10, isbn_to_title=None):\n",
    "    # 해당 사용자가 읽은 책 목록\n",
    "    read_books = df_filtered[df_filtered['user_id'] == user_id]['isbn'].unique()\n",
    "    all_books = df_filtered['isbn'].unique()\n",
    "    unread_books = [isbn for isbn in all_books if isbn not in read_books]\n",
    "\n",
    "    # unread_books에 대해 평점 예측\n",
    "    preds = [model2.predict(user_id, isbn) for isbn in unread_books]\n",
    "    top_n = sorted(preds, key=lambda x: x.est, reverse=True)[:n]\n",
    "\n",
    "    # 출력\n",
    "    print(f\"\\n[사용자 {user_id} 추천 도서]\")\n",
    "    for pred in top_n:\n",
    "        title = isbn_to_title.get(pred.iid, \"제목 없음\") if isbn_to_title else pred.iid\n",
    "        print(f\"책 제목: {title}, 예상 평점: {pred.est:.2f}\")"
   ]
  },
  {
   "cell_type": "code",
   "execution_count": 78,
   "id": "2f16a31a-6eba-459b-8962-3aec4fea1011",
   "metadata": {},
   "outputs": [
    {
     "name": "stdout",
     "output_type": "stream",
     "text": [
      "\n",
      "[사용자 보슬비 추천 도서]\n",
      "책 제목: 코스모스, 예상 평점: 9.46\n",
      "책 제목: 헤어질 결심 각본, 예상 평점: 9.43\n",
      "책 제목: 도스토옙스키 컬렉션 (도스토옙스키 탄생 200주년 기념판) - 전11권, 예상 평점: 9.43\n",
      "책 제목: 딕테, 예상 평점: 9.43\n",
      "책 제목: 명상록 (그리스어 원전 완역본), 예상 평점: 9.42\n",
      "책 제목: 조국의 시간, 예상 평점: 9.40\n",
      "책 제목: 산하엽, 예상 평점: 9.40\n",
      "책 제목: 죄와 벌 1, 예상 평점: 9.37\n",
      "책 제목: 대화, 예상 평점: 9.37\n",
      "책 제목: 나의 아저씨 1~2 세트 - 전2권, 예상 평점: 9.36\n",
      "\n",
      "[사용자 책읽는나무 추천 도서]\n",
      "책 제목: 명상록 (그리스어 원전 완역본), 예상 평점: 10.00\n",
      "책 제목: 헤어질 결심 각본, 예상 평점: 10.00\n",
      "책 제목: 코스모스, 예상 평점: 9.98\n",
      "책 제목: 조국의 시간, 예상 평점: 9.95\n",
      "책 제목: 산하엽, 예상 평점: 9.92\n",
      "책 제목: 금요일엔 돌아오렴, 예상 평점: 9.90\n",
      "책 제목: 어린 왕자, 예상 평점: 9.89\n",
      "책 제목: 딕테, 예상 평점: 9.89\n",
      "책 제목: 아픔이 길이 되려면, 예상 평점: 9.87\n",
      "책 제목: 나의 아저씨 1~2 세트 - 전2권, 예상 평점: 9.87\n"
     ]
    }
   ],
   "source": [
    "# 책 제목 매핑\n",
    "isbn_to_title = df_filtered[['isbn', 'title']].drop_duplicates().set_index('isbn')['title'].to_dict()\n",
    "\n",
    "# 두 사용자에게 추천\n",
    "recommend_books(model, df_filtered, '보슬비', isbn_to_title=isbn_to_title)\n",
    "recommend_books(model, df_filtered, '책읽는나무', isbn_to_title=isbn_to_title)\n"
   ]
  },
  {
   "cell_type": "code",
   "execution_count": null,
   "id": "0910ffe5-b884-4a50-8969-70d1d4cb2433",
   "metadata": {},
   "outputs": [],
   "source": []
  },
  {
   "cell_type": "code",
   "execution_count": null,
   "id": "abbf1404-8ab6-4c51-a93c-81e4ef88fc7e",
   "metadata": {},
   "outputs": [],
   "source": []
  },
  {
   "cell_type": "code",
   "execution_count": null,
   "id": "a485f634-b64d-4be7-b99e-d23c3559b261",
   "metadata": {},
   "outputs": [],
   "source": []
  },
  {
   "cell_type": "code",
   "execution_count": 31,
   "id": "ec8fb638-1fb2-4ce4-ad52-a35f50997668",
   "metadata": {},
   "outputs": [
    {
     "data": {
      "text/html": [
       "<div>\n",
       "<style scoped>\n",
       "    .dataframe tbody tr th:only-of-type {\n",
       "        vertical-align: middle;\n",
       "    }\n",
       "\n",
       "    .dataframe tbody tr th {\n",
       "        vertical-align: top;\n",
       "    }\n",
       "\n",
       "    .dataframe thead th {\n",
       "        text-align: right;\n",
       "    }\n",
       "</style>\n",
       "<table border=\"1\" class=\"dataframe\">\n",
       "  <thead>\n",
       "    <tr style=\"text-align: right;\">\n",
       "      <th></th>\n",
       "      <th>user_id</th>\n",
       "      <th>isbn</th>\n",
       "      <th>rating</th>\n",
       "      <th>review</th>\n",
       "      <th>title</th>\n",
       "      <th>writer</th>\n",
       "      <th>publisher</th>\n",
       "      <th>Pub_date</th>\n",
       "      <th>re_price</th>\n",
       "      <th>sa_price</th>\n",
       "      <th>genre</th>\n",
       "      <th>description</th>\n",
       "      <th>user_mean</th>\n",
       "      <th>rating_cen</th>\n",
       "    </tr>\n",
       "  </thead>\n",
       "  <tbody>\n",
       "  </tbody>\n",
       "</table>\n",
       "</div>"
      ],
      "text/plain": [
       "Empty DataFrame\n",
       "Columns: [user_id, isbn, rating, review, title, writer, publisher, Pub_date, re_price, sa_price, genre, description, user_mean, rating_cen]\n",
       "Index: []"
      ]
     },
     "execution_count": 31,
     "metadata": {},
     "output_type": "execute_result"
    }
   ],
   "source": [
    "df_filtered[df_filtered[\"user_id\"] == '후애(厚愛)']"
   ]
  },
  {
   "cell_type": "code",
   "execution_count": 32,
   "id": "deec8991-fd5f-4a8b-9cbf-a4797d23340e",
   "metadata": {
    "scrolled": true
   },
   "outputs": [
    {
     "data": {
      "text/html": [
       "<div>\n",
       "<style scoped>\n",
       "    .dataframe tbody tr th:only-of-type {\n",
       "        vertical-align: middle;\n",
       "    }\n",
       "\n",
       "    .dataframe tbody tr th {\n",
       "        vertical-align: top;\n",
       "    }\n",
       "\n",
       "    .dataframe thead th {\n",
       "        text-align: right;\n",
       "    }\n",
       "</style>\n",
       "<table border=\"1\" class=\"dataframe\">\n",
       "  <thead>\n",
       "    <tr style=\"text-align: right;\">\n",
       "      <th></th>\n",
       "      <th>user_id</th>\n",
       "      <th>isbn</th>\n",
       "      <th>rating</th>\n",
       "      <th>review</th>\n",
       "      <th>title</th>\n",
       "      <th>writer</th>\n",
       "      <th>publisher</th>\n",
       "      <th>Pub_date</th>\n",
       "      <th>re_price</th>\n",
       "      <th>sa_price</th>\n",
       "      <th>genre</th>\n",
       "      <th>description</th>\n",
       "      <th>user_mean</th>\n",
       "      <th>rating_cen</th>\n",
       "    </tr>\n",
       "  </thead>\n",
       "  <tbody>\n",
       "    <tr>\n",
       "      <th>0</th>\n",
       "      <td>보슬비</td>\n",
       "      <td>9788936434120</td>\n",
       "      <td>5</td>\n",
       "      <td>어떻게 얻은 민주주의인데... 우리의 힘은 ‘잊지말기‘, ‘기억하기‘ 그래서 ‘지켜내기‘</td>\n",
       "      <td>소년이 온다</td>\n",
       "      <td>한강 지음</td>\n",
       "      <td>창비</td>\n",
       "      <td>20140519.0</td>\n",
       "      <td>15,000</td>\n",
       "      <td>13,500</td>\n",
       "      <td>소설/시/희곡</td>\n",
       "      <td>말라파르테 문학상, 만해문학상 수상작 \\n우리 시대의 소설 『소년이 온다』\\n\\n2...</td>\n",
       "      <td>4.300000</td>\n",
       "      <td>0.700000</td>\n",
       "    </tr>\n",
       "    <tr>\n",
       "      <th>1</th>\n",
       "      <td>책읽는나무</td>\n",
       "      <td>9788936434120</td>\n",
       "      <td>5</td>\n",
       "      <td>아픔과 슬픔은 경험해봐야 크게  공감할 수 있다지만, 글을 읽으면서도 이미 눈은 슬...</td>\n",
       "      <td>소년이 온다</td>\n",
       "      <td>한강 지음</td>\n",
       "      <td>창비</td>\n",
       "      <td>20140519.0</td>\n",
       "      <td>15,000</td>\n",
       "      <td>13,500</td>\n",
       "      <td>소설/시/희곡</td>\n",
       "      <td>말라파르테 문학상, 만해문학상 수상작 \\n우리 시대의 소설 『소년이 온다』\\n\\n2...</td>\n",
       "      <td>4.412844</td>\n",
       "      <td>0.587156</td>\n",
       "    </tr>\n",
       "    <tr>\n",
       "      <th>2</th>\n",
       "      <td>코코몽</td>\n",
       "      <td>9788936434120</td>\n",
       "      <td>5</td>\n",
       "      <td>역사를 잊은 민족에게 미래는 없다.</td>\n",
       "      <td>소년이 온다</td>\n",
       "      <td>한강 지음</td>\n",
       "      <td>창비</td>\n",
       "      <td>20140519.0</td>\n",
       "      <td>15,000</td>\n",
       "      <td>13,500</td>\n",
       "      <td>소설/시/희곡</td>\n",
       "      <td>말라파르테 문학상, 만해문학상 수상작 \\n우리 시대의 소설 『소년이 온다』\\n\\n2...</td>\n",
       "      <td>4.666667</td>\n",
       "      <td>0.333333</td>\n",
       "    </tr>\n",
       "    <tr>\n",
       "      <th>3</th>\n",
       "      <td>the</td>\n",
       "      <td>9788936434120</td>\n",
       "      <td>5</td>\n",
       "      <td>출근길에 지하철에서 숨죽여 오열하며 마지막 장을 다 읽었습니다. 고통 속에서 한 자...</td>\n",
       "      <td>소년이 온다</td>\n",
       "      <td>한강 지음</td>\n",
       "      <td>창비</td>\n",
       "      <td>20140519.0</td>\n",
       "      <td>15,000</td>\n",
       "      <td>13,500</td>\n",
       "      <td>소설/시/희곡</td>\n",
       "      <td>말라파르테 문학상, 만해문학상 수상작 \\n우리 시대의 소설 『소년이 온다』\\n\\n2...</td>\n",
       "      <td>4.142857</td>\n",
       "      <td>0.857143</td>\n",
       "    </tr>\n",
       "    <tr>\n",
       "      <th>4</th>\n",
       "      <td>appletreeje</td>\n",
       "      <td>9788936434120</td>\n",
       "      <td>5</td>\n",
       "      <td>습자지에 핏망울이 꽃처럼 스며드는 이야기. 새의 영혼같이 나직나직 들려주는 이 책을...</td>\n",
       "      <td>소년이 온다</td>\n",
       "      <td>한강 지음</td>\n",
       "      <td>창비</td>\n",
       "      <td>20140519.0</td>\n",
       "      <td>15,000</td>\n",
       "      <td>13,500</td>\n",
       "      <td>소설/시/희곡</td>\n",
       "      <td>말라파르테 문학상, 만해문학상 수상작 \\n우리 시대의 소설 『소년이 온다』\\n\\n2...</td>\n",
       "      <td>4.941176</td>\n",
       "      <td>0.058824</td>\n",
       "    </tr>\n",
       "    <tr>\n",
       "      <th>...</th>\n",
       "      <td>...</td>\n",
       "      <td>...</td>\n",
       "      <td>...</td>\n",
       "      <td>...</td>\n",
       "      <td>...</td>\n",
       "      <td>...</td>\n",
       "      <td>...</td>\n",
       "      <td>...</td>\n",
       "      <td>...</td>\n",
       "      <td>...</td>\n",
       "      <td>...</td>\n",
       "      <td>...</td>\n",
       "      <td>...</td>\n",
       "      <td>...</td>\n",
       "    </tr>\n",
       "    <tr>\n",
       "      <th>66003</th>\n",
       "      <td>sophie833</td>\n",
       "      <td>9788934935759</td>\n",
       "      <td>5</td>\n",
       "      <td>별로 기대를 안했는데 읽다보니 꽤 재미있네요. 우리나라가 이제 약소국은 아니지만아직...</td>\n",
       "      <td>변방에서 중심으로</td>\n",
       "      <td>문재인 지음, 최종건 대담</td>\n",
       "      <td>김영사</td>\n",
       "      <td>20240518.0</td>\n",
       "      <td>33000</td>\n",
       "      <td>29700</td>\n",
       "      <td>사회과학</td>\n",
       "      <td>퇴임 2주년 첫 회고록!\\n위기에서 희망으로, 대립에서 번영으로, 변방에서 중심으로...</td>\n",
       "      <td>4.666667</td>\n",
       "      <td>0.333333</td>\n",
       "    </tr>\n",
       "    <tr>\n",
       "      <th>66004</th>\n",
       "      <td>아라</td>\n",
       "      <td>9788934935759</td>\n",
       "      <td>5</td>\n",
       "      <td>읽는 것만으로도 가슴이 벅차오른다. 문재인 정부가 지향했던 가치와 혼신의 힘을 다해...</td>\n",
       "      <td>변방에서 중심으로</td>\n",
       "      <td>문재인 지음, 최종건 대담</td>\n",
       "      <td>김영사</td>\n",
       "      <td>20240518.0</td>\n",
       "      <td>33000</td>\n",
       "      <td>29700</td>\n",
       "      <td>사회과학</td>\n",
       "      <td>퇴임 2주년 첫 회고록!\\n위기에서 희망으로, 대립에서 번영으로, 변방에서 중심으로...</td>\n",
       "      <td>3.575342</td>\n",
       "      <td>1.424658</td>\n",
       "    </tr>\n",
       "    <tr>\n",
       "      <th>66007</th>\n",
       "      <td>azrael</td>\n",
       "      <td>9788934935759</td>\n",
       "      <td>5</td>\n",
       "      <td>책을 읽으면서 새록새록 기억이 되살아 났습니다...이 땅에 다시 전쟁이 일어나서는 ...</td>\n",
       "      <td>변방에서 중심으로</td>\n",
       "      <td>문재인 지음, 최종건 대담</td>\n",
       "      <td>김영사</td>\n",
       "      <td>20240518.0</td>\n",
       "      <td>33000</td>\n",
       "      <td>29700</td>\n",
       "      <td>사회과학</td>\n",
       "      <td>퇴임 2주년 첫 회고록!\\n위기에서 희망으로, 대립에서 번영으로, 변방에서 중심으로...</td>\n",
       "      <td>4.857143</td>\n",
       "      <td>0.142857</td>\n",
       "    </tr>\n",
       "    <tr>\n",
       "      <th>66008</th>\n",
       "      <td>김정희</td>\n",
       "      <td>9788934935759</td>\n",
       "      <td>5</td>\n",
       "      <td>당신이 그립습니다..ㅠㅠ 여러분야에서 애써주신 대통령님 고생 많으셨습니다!!!</td>\n",
       "      <td>변방에서 중심으로</td>\n",
       "      <td>문재인 지음, 최종건 대담</td>\n",
       "      <td>김영사</td>\n",
       "      <td>20240518.0</td>\n",
       "      <td>33000</td>\n",
       "      <td>29700</td>\n",
       "      <td>사회과학</td>\n",
       "      <td>퇴임 2주년 첫 회고록!\\n위기에서 희망으로, 대립에서 번영으로, 변방에서 중심으로...</td>\n",
       "      <td>4.833333</td>\n",
       "      <td>0.166667</td>\n",
       "    </tr>\n",
       "    <tr>\n",
       "      <th>66009</th>\n",
       "      <td>호야</td>\n",
       "      <td>9788934935759</td>\n",
       "      <td>1</td>\n",
       "      <td>감사합니다.</td>\n",
       "      <td>변방에서 중심으로</td>\n",
       "      <td>문재인 지음, 최종건 대담</td>\n",
       "      <td>김영사</td>\n",
       "      <td>20240518.0</td>\n",
       "      <td>33000</td>\n",
       "      <td>29700</td>\n",
       "      <td>사회과학</td>\n",
       "      <td>퇴임 2주년 첫 회고록!\\n위기에서 희망으로, 대립에서 번영으로, 변방에서 중심으로...</td>\n",
       "      <td>4.300000</td>\n",
       "      <td>-3.300000</td>\n",
       "    </tr>\n",
       "  </tbody>\n",
       "</table>\n",
       "<p>55098 rows × 14 columns</p>\n",
       "</div>"
      ],
      "text/plain": [
       "           user_id           isbn  rating  \\\n",
       "0              보슬비  9788936434120       5   \n",
       "1            책읽는나무  9788936434120       5   \n",
       "2              코코몽  9788936434120       5   \n",
       "3              the  9788936434120       5   \n",
       "4      appletreeje  9788936434120       5   \n",
       "...            ...            ...     ...   \n",
       "66003    sophie833  9788934935759       5   \n",
       "66004           아라  9788934935759       5   \n",
       "66007       azrael  9788934935759       5   \n",
       "66008          김정희  9788934935759       5   \n",
       "66009           호야  9788934935759       1   \n",
       "\n",
       "                                                  review      title  \\\n",
       "0      어떻게 얻은 민주주의인데... 우리의 힘은 ‘잊지말기‘, ‘기억하기‘ 그래서 ‘지켜내기‘     소년이 온다   \n",
       "1      아픔과 슬픔은 경험해봐야 크게  공감할 수 있다지만, 글을 읽으면서도 이미 눈은 슬...     소년이 온다   \n",
       "2                                    역사를 잊은 민족에게 미래는 없다.     소년이 온다   \n",
       "3      출근길에 지하철에서 숨죽여 오열하며 마지막 장을 다 읽었습니다. 고통 속에서 한 자...     소년이 온다   \n",
       "4      습자지에 핏망울이 꽃처럼 스며드는 이야기. 새의 영혼같이 나직나직 들려주는 이 책을...     소년이 온다   \n",
       "...                                                  ...        ...   \n",
       "66003  별로 기대를 안했는데 읽다보니 꽤 재미있네요. 우리나라가 이제 약소국은 아니지만아직...  변방에서 중심으로   \n",
       "66004  읽는 것만으로도 가슴이 벅차오른다. 문재인 정부가 지향했던 가치와 혼신의 힘을 다해...  변방에서 중심으로   \n",
       "66007  책을 읽으면서 새록새록 기억이 되살아 났습니다...이 땅에 다시 전쟁이 일어나서는 ...  변방에서 중심으로   \n",
       "66008        당신이 그립습니다..ㅠㅠ 여러분야에서 애써주신 대통령님 고생 많으셨습니다!!!  변방에서 중심으로   \n",
       "66009                                             감사합니다.  변방에서 중심으로   \n",
       "\n",
       "               writer publisher    Pub_date re_price sa_price    genre  \\\n",
       "0               한강 지음        창비  20140519.0   15,000   13,500  소설/시/희곡   \n",
       "1               한강 지음        창비  20140519.0   15,000   13,500  소설/시/희곡   \n",
       "2               한강 지음        창비  20140519.0   15,000   13,500  소설/시/희곡   \n",
       "3               한강 지음        창비  20140519.0   15,000   13,500  소설/시/희곡   \n",
       "4               한강 지음        창비  20140519.0   15,000   13,500  소설/시/희곡   \n",
       "...               ...       ...         ...      ...      ...      ...   \n",
       "66003  문재인 지음, 최종건 대담       김영사  20240518.0    33000    29700     사회과학   \n",
       "66004  문재인 지음, 최종건 대담       김영사  20240518.0    33000    29700     사회과학   \n",
       "66007  문재인 지음, 최종건 대담       김영사  20240518.0    33000    29700     사회과학   \n",
       "66008  문재인 지음, 최종건 대담       김영사  20240518.0    33000    29700     사회과학   \n",
       "66009  문재인 지음, 최종건 대담       김영사  20240518.0    33000    29700     사회과학   \n",
       "\n",
       "                                             description  user_mean  \\\n",
       "0      말라파르테 문학상, 만해문학상 수상작 \\n우리 시대의 소설 『소년이 온다』\\n\\n2...   4.300000   \n",
       "1      말라파르테 문학상, 만해문학상 수상작 \\n우리 시대의 소설 『소년이 온다』\\n\\n2...   4.412844   \n",
       "2      말라파르테 문학상, 만해문학상 수상작 \\n우리 시대의 소설 『소년이 온다』\\n\\n2...   4.666667   \n",
       "3      말라파르테 문학상, 만해문학상 수상작 \\n우리 시대의 소설 『소년이 온다』\\n\\n2...   4.142857   \n",
       "4      말라파르테 문학상, 만해문학상 수상작 \\n우리 시대의 소설 『소년이 온다』\\n\\n2...   4.941176   \n",
       "...                                                  ...        ...   \n",
       "66003  퇴임 2주년 첫 회고록!\\n위기에서 희망으로, 대립에서 번영으로, 변방에서 중심으로...   4.666667   \n",
       "66004  퇴임 2주년 첫 회고록!\\n위기에서 희망으로, 대립에서 번영으로, 변방에서 중심으로...   3.575342   \n",
       "66007  퇴임 2주년 첫 회고록!\\n위기에서 희망으로, 대립에서 번영으로, 변방에서 중심으로...   4.857143   \n",
       "66008  퇴임 2주년 첫 회고록!\\n위기에서 희망으로, 대립에서 번영으로, 변방에서 중심으로...   4.833333   \n",
       "66009  퇴임 2주년 첫 회고록!\\n위기에서 희망으로, 대립에서 번영으로, 변방에서 중심으로...   4.300000   \n",
       "\n",
       "       rating_cen  \n",
       "0        0.700000  \n",
       "1        0.587156  \n",
       "2        0.333333  \n",
       "3        0.857143  \n",
       "4        0.058824  \n",
       "...           ...  \n",
       "66003    0.333333  \n",
       "66004    1.424658  \n",
       "66007    0.142857  \n",
       "66008    0.166667  \n",
       "66009   -3.300000  \n",
       "\n",
       "[55098 rows x 14 columns]"
      ]
     },
     "execution_count": 32,
     "metadata": {},
     "output_type": "execute_result"
    }
   ],
   "source": [
    "df_filtered"
   ]
  },
  {
   "cell_type": "code",
   "execution_count": null,
   "id": "ef5d5ade-1178-4391-a669-44c9d1803d22",
   "metadata": {},
   "outputs": [],
   "source": []
  },
  {
   "cell_type": "code",
   "execution_count": 11,
   "id": "261efef8-c8fc-42c6-bd9a-a5530824bdd7",
   "metadata": {},
   "outputs": [
    {
     "data": {
      "application/vnd.jupyter.widget-view+json": {
       "model_id": "e01e59ee65fd4b46b9c7b1d1c61a92a9",
       "version_major": 2,
       "version_minor": 0
      },
      "text/plain": [
       "tokenizer_config.json:   0%|          | 0.00/7.34k [00:00<?, ?B/s]"
      ]
     },
     "metadata": {},
     "output_type": "display_data"
    },
    {
     "data": {
      "application/vnd.jupyter.widget-view+json": {
       "model_id": "844c4bab5e0b4259becb04ae7ad8cc81",
       "version_major": 2,
       "version_minor": 0
      },
      "text/plain": [
       "vocab.json:   0%|          | 0.00/798k [00:00<?, ?B/s]"
      ]
     },
     "metadata": {},
     "output_type": "display_data"
    },
    {
     "data": {
      "application/vnd.jupyter.widget-view+json": {
       "model_id": "101a5e65e9d44902b278fa6fdab61c49",
       "version_major": 2,
       "version_minor": 0
      },
      "text/plain": [
       "merges.txt:   0%|          | 0.00/456k [00:00<?, ?B/s]"
      ]
     },
     "metadata": {},
     "output_type": "display_data"
    },
    {
     "data": {
      "application/vnd.jupyter.widget-view+json": {
       "model_id": "3f4b3990bf354617a04ee05a6a6bebd1",
       "version_major": 2,
       "version_minor": 0
      },
      "text/plain": [
       "tokenizer.json:   0%|          | 0.00/2.11M [00:00<?, ?B/s]"
      ]
     },
     "metadata": {},
     "output_type": "display_data"
    },
    {
     "data": {
      "application/vnd.jupyter.widget-view+json": {
       "model_id": "ac3d52fbc012458bafe2bfdee346d7da",
       "version_major": 2,
       "version_minor": 0
      },
      "text/plain": [
       "added_tokens.json:   0%|          | 0.00/1.08k [00:00<?, ?B/s]"
      ]
     },
     "metadata": {},
     "output_type": "display_data"
    },
    {
     "data": {
      "application/vnd.jupyter.widget-view+json": {
       "model_id": "6a646354f63741e0a9e2a70cfdc7f089",
       "version_major": 2,
       "version_minor": 0
      },
      "text/plain": [
       "special_tokens_map.json:   0%|          | 0.00/99.0 [00:00<?, ?B/s]"
      ]
     },
     "metadata": {},
     "output_type": "display_data"
    },
    {
     "ename": "ImportError",
     "evalue": "\nAutoModelForCausalLM requires the PyTorch library but it was not found in your environment. Checkout the instructions on the\ninstallation page: https://pytorch.org/get-started/locally/ and follow the ones that match your environment.\nPlease note that you may need to restart your runtime after installation.\n",
     "output_type": "error",
     "traceback": [
      "\u001b[31m---------------------------------------------------------------------------\u001b[39m",
      "\u001b[31mImportError\u001b[39m                               Traceback (most recent call last)",
      "\u001b[36mCell\u001b[39m\u001b[36m \u001b[39m\u001b[32mIn[11]\u001b[39m\u001b[32m, line 7\u001b[39m\n\u001b[32m      5\u001b[39m llm_model_name = \u001b[33m\"\u001b[39m\u001b[33mmicrosoft/phi-2\u001b[39m\u001b[33m\"\u001b[39m\n\u001b[32m      6\u001b[39m tokenizer = AutoTokenizer.from_pretrained(llm_model_name)\n\u001b[32m----> \u001b[39m\u001b[32m7\u001b[39m llm_model = \u001b[43mAutoModelForCausalLM\u001b[49m\u001b[43m.\u001b[49m\u001b[43mfrom_pretrained\u001b[49m(llm_model_name, torch_dtype=torch.float32).to(\u001b[33m\"\u001b[39m\u001b[33mcpu\u001b[39m\u001b[33m\"\u001b[39m)\n\u001b[32m      9\u001b[39m \u001b[38;5;66;03m# 5. 추천 이유 생성 함수\u001b[39;00m\n\u001b[32m     10\u001b[39m \u001b[38;5;28;01mdef\u001b[39;00m\u001b[38;5;250m \u001b[39m\u001b[34mgenerate_explanation\u001b[39m(user_id, book_title, est_rating):\n",
      "\u001b[36mFile \u001b[39m\u001b[32m~\\anaconda3\\envs\\finalpj\\Lib\\site-packages\\transformers\\utils\\import_utils.py:1885\u001b[39m, in \u001b[36mDummyObject.__getattribute__\u001b[39m\u001b[34m(cls, key)\u001b[39m\n\u001b[32m   1883\u001b[39m \u001b[38;5;28;01mif\u001b[39;00m (key.startswith(\u001b[33m\"\u001b[39m\u001b[33m_\u001b[39m\u001b[33m\"\u001b[39m) \u001b[38;5;129;01mand\u001b[39;00m key != \u001b[33m\"\u001b[39m\u001b[33m_from_config\u001b[39m\u001b[33m\"\u001b[39m) \u001b[38;5;129;01mor\u001b[39;00m key == \u001b[33m\"\u001b[39m\u001b[33mis_dummy\u001b[39m\u001b[33m\"\u001b[39m \u001b[38;5;129;01mor\u001b[39;00m key == \u001b[33m\"\u001b[39m\u001b[33mmro\u001b[39m\u001b[33m\"\u001b[39m \u001b[38;5;129;01mor\u001b[39;00m key == \u001b[33m\"\u001b[39m\u001b[33mcall\u001b[39m\u001b[33m\"\u001b[39m:\n\u001b[32m   1884\u001b[39m     \u001b[38;5;28;01mreturn\u001b[39;00m \u001b[38;5;28msuper\u001b[39m().\u001b[34m__getattribute__\u001b[39m(key)\n\u001b[32m-> \u001b[39m\u001b[32m1885\u001b[39m \u001b[43mrequires_backends\u001b[49m\u001b[43m(\u001b[49m\u001b[38;5;28;43mcls\u001b[39;49m\u001b[43m,\u001b[49m\u001b[43m \u001b[49m\u001b[38;5;28;43mcls\u001b[39;49m\u001b[43m.\u001b[49m\u001b[43m_backends\u001b[49m\u001b[43m)\u001b[49m\n",
      "\u001b[36mFile \u001b[39m\u001b[32m~\\anaconda3\\envs\\finalpj\\Lib\\site-packages\\transformers\\utils\\import_utils.py:1871\u001b[39m, in \u001b[36mrequires_backends\u001b[39m\u001b[34m(obj, backends)\u001b[39m\n\u001b[32m   1868\u001b[39m         failed.append(msg.format(name))\n\u001b[32m   1870\u001b[39m \u001b[38;5;28;01mif\u001b[39;00m failed:\n\u001b[32m-> \u001b[39m\u001b[32m1871\u001b[39m     \u001b[38;5;28;01mraise\u001b[39;00m \u001b[38;5;167;01mImportError\u001b[39;00m(\u001b[33m\"\u001b[39m\u001b[33m\"\u001b[39m.join(failed))\n",
      "\u001b[31mImportError\u001b[39m: \nAutoModelForCausalLM requires the PyTorch library but it was not found in your environment. Checkout the instructions on the\ninstallation page: https://pytorch.org/get-started/locally/ and follow the ones that match your environment.\nPlease note that you may need to restart your runtime after installation.\n"
     ]
    }
   ],
   "source": [
    "\n",
    "\n",
    "# # 3. 책 제목 딕셔너리\n",
    "# isbn_to_title = df_filtered[['isbn', 'title']].drop_duplicates().set_index('isbn')['title'].to_dict()\n",
    "\n",
    "# # 4. phi-2 모델 로드\n",
    "# llm_model_name = \"microsoft/phi-2\"\n",
    "# tokenizer = AutoTokenizer.from_pretrained(llm_model_name)\n",
    "# llm_model = AutoModelForCausalLM.from_pretrained(llm_model_name, torch_dtype=torch.float32).to(\"cpu\")\n",
    "\n",
    "# # 5. 추천 이유 생성 함수\n",
    "# def generate_explanation(user_id, book_title, est_rating):\n",
    "#     prompt = f\"\"\"사용자 \"{user_id}\"님께 \"{book_title}\" 도서를 추천하는 이유는 다음과 같습니다.\n",
    "# 예상 평점은 {est_rating:.2f}점입니다.\n",
    "# 추천 이유:\"\"\"\n",
    "\n",
    "#     inputs = tokenizer(prompt, return_tensors=\"pt\").to(\"cpu\")\n",
    "#     outputs = llm_model.generate(\n",
    "#         **inputs,\n",
    "#         max_new_tokens=80,\n",
    "#         pad_token_id=tokenizer.eos_token_id,\n",
    "#         do_sample=True,\n",
    "#         temperature=0.7,\n",
    "#         top_k=50,\n",
    "#         top_p=0.95\n",
    "#     )\n",
    "#     result = tokenizer.decode(outputs[0], skip_special_tokens=True)\n",
    "#     explanation = result.split(\"추천 이유:\")[-1].strip()\n",
    "#     return explanation\n",
    "\n",
    "# # 6. 추천 함수\n",
    "# def recommend_books_with_explanation(model, df_filtered, user_id, n=1, isbn_to_title=None):\n",
    "#     read_books = df_filtered[df_filtered['user_id'] == user_id]['isbn'].unique()\n",
    "#     all_books = df_filtered['isbn'].unique()\n",
    "#     unread_books = [isbn for isbn in all_books if isbn not in read_books]\n",
    "\n",
    "#     preds = [model.predict(user_id, isbn) for isbn in unread_books]\n",
    "#     top_n = sorted(preds, key=lambda x: x.est, reverse=True)[:n]\n",
    "\n",
    "#     print(f\"\\n[{user_id}님 추천 도서]\")\n",
    "#     for pred in top_n:\n",
    "#         title = isbn_to_title.get(pred.iid, \"제목 없음\") if isbn_to_title else pred.iid\n",
    "#         explanation = generate_explanation(user_id, title, pred.est)\n",
    "#         print(f\"책 제목: {title}, 예상 평점: {pred.est:.2f}\")\n",
    "#         print(f\"추천 이유: {explanation}\")\n",
    "\n",
    "# # 7. 테스트 실행\n",
    "# recommend_books_with_explanation(model, df_filtered, \"보슬비\", n=1, isbn_to_title=isbn_to_title)\n"
   ]
  },
  {
   "cell_type": "code",
   "execution_count": null,
   "id": "8829196d-e456-4b85-ac58-31a9c9ad9ccf",
   "metadata": {},
   "outputs": [],
   "source": []
  },
  {
   "cell_type": "code",
   "execution_count": 12,
   "id": "afaaa01a-88be-4bef-bdf1-3628e3e793b1",
   "metadata": {},
   "outputs": [
    {
     "ename": "ImportError",
     "evalue": "\nAutoModelForCausalLM requires the PyTorch library but it was not found in your environment. Checkout the instructions on the\ninstallation page: https://pytorch.org/get-started/locally/ and follow the ones that match your environment.\nPlease note that you may need to restart your runtime after installation.\n",
     "output_type": "error",
     "traceback": [
      "\u001b[31m---------------------------------------------------------------------------\u001b[39m",
      "\u001b[31mImportError\u001b[39m                               Traceback (most recent call last)",
      "\u001b[36mCell\u001b[39m\u001b[36m \u001b[39m\u001b[32mIn[12]\u001b[39m\u001b[32m, line 7\u001b[39m\n\u001b[32m      5\u001b[39m \u001b[38;5;66;03m# LLM (phi-2) 불러오기\u001b[39;00m\n\u001b[32m      6\u001b[39m tokenizer = AutoTokenizer.from_pretrained(\u001b[33m\"\u001b[39m\u001b[33mmicrosoft/phi-2\u001b[39m\u001b[33m\"\u001b[39m)\n\u001b[32m----> \u001b[39m\u001b[32m7\u001b[39m llm_model = \u001b[43mAutoModelForCausalLM\u001b[49m\u001b[43m.\u001b[49m\u001b[43mfrom_pretrained\u001b[49m(\u001b[33m\"\u001b[39m\u001b[33mmicrosoft/phi-2\u001b[39m\u001b[33m\"\u001b[39m, torch_dtype=torch.float32).to(\u001b[33m\"\u001b[39m\u001b[33mcpu\u001b[39m\u001b[33m\"\u001b[39m)\n\u001b[32m      9\u001b[39m \u001b[38;5;66;03m# 설명 생성 함수\u001b[39;00m\n\u001b[32m     10\u001b[39m \u001b[38;5;28;01mdef\u001b[39;00m\u001b[38;5;250m \u001b[39m\u001b[34mgenerate_explanation_with_context\u001b[39m(user_id, book_title, book_desc, est_rating):\n",
      "\u001b[36mFile \u001b[39m\u001b[32m~\\anaconda3\\envs\\finalpj\\Lib\\site-packages\\transformers\\utils\\import_utils.py:1885\u001b[39m, in \u001b[36mDummyObject.__getattribute__\u001b[39m\u001b[34m(cls, key)\u001b[39m\n\u001b[32m   1883\u001b[39m \u001b[38;5;28;01mif\u001b[39;00m (key.startswith(\u001b[33m\"\u001b[39m\u001b[33m_\u001b[39m\u001b[33m\"\u001b[39m) \u001b[38;5;129;01mand\u001b[39;00m key != \u001b[33m\"\u001b[39m\u001b[33m_from_config\u001b[39m\u001b[33m\"\u001b[39m) \u001b[38;5;129;01mor\u001b[39;00m key == \u001b[33m\"\u001b[39m\u001b[33mis_dummy\u001b[39m\u001b[33m\"\u001b[39m \u001b[38;5;129;01mor\u001b[39;00m key == \u001b[33m\"\u001b[39m\u001b[33mmro\u001b[39m\u001b[33m\"\u001b[39m \u001b[38;5;129;01mor\u001b[39;00m key == \u001b[33m\"\u001b[39m\u001b[33mcall\u001b[39m\u001b[33m\"\u001b[39m:\n\u001b[32m   1884\u001b[39m     \u001b[38;5;28;01mreturn\u001b[39;00m \u001b[38;5;28msuper\u001b[39m().\u001b[34m__getattribute__\u001b[39m(key)\n\u001b[32m-> \u001b[39m\u001b[32m1885\u001b[39m \u001b[43mrequires_backends\u001b[49m\u001b[43m(\u001b[49m\u001b[38;5;28;43mcls\u001b[39;49m\u001b[43m,\u001b[49m\u001b[43m \u001b[49m\u001b[38;5;28;43mcls\u001b[39;49m\u001b[43m.\u001b[49m\u001b[43m_backends\u001b[49m\u001b[43m)\u001b[49m\n",
      "\u001b[36mFile \u001b[39m\u001b[32m~\\anaconda3\\envs\\finalpj\\Lib\\site-packages\\transformers\\utils\\import_utils.py:1871\u001b[39m, in \u001b[36mrequires_backends\u001b[39m\u001b[34m(obj, backends)\u001b[39m\n\u001b[32m   1868\u001b[39m         failed.append(msg.format(name))\n\u001b[32m   1870\u001b[39m \u001b[38;5;28;01mif\u001b[39;00m failed:\n\u001b[32m-> \u001b[39m\u001b[32m1871\u001b[39m     \u001b[38;5;28;01mraise\u001b[39;00m \u001b[38;5;167;01mImportError\u001b[39;00m(\u001b[33m\"\u001b[39m\u001b[33m\"\u001b[39m.join(failed))\n",
      "\u001b[31mImportError\u001b[39m: \nAutoModelForCausalLM requires the PyTorch library but it was not found in your environment. Checkout the instructions on the\ninstallation page: https://pytorch.org/get-started/locally/ and follow the ones that match your environment.\nPlease note that you may need to restart your runtime after installation.\n"
     ]
    }
   ],
   "source": [
    "# # 책 제목/설명 딕셔너리\n",
    "# isbn_to_title = df_filtered[['isbn', 'title']].drop_duplicates().set_index('isbn')['title'].to_dict()\n",
    "# isbn_to_desc = df_filtered[['isbn', 'description']].drop_duplicates().set_index('isbn')['description'].to_dict()\n",
    "\n",
    "# # LLM (phi-2) 불러오기\n",
    "# tokenizer = AutoTokenizer.from_pretrained(\"microsoft/phi-2\")\n",
    "# llm_model = AutoModelForCausalLM.from_pretrained(\"microsoft/phi-2\", torch_dtype=torch.float32).to(\"cpu\")\n",
    "\n",
    "# # 설명 생성 함수\n",
    "# def generate_explanation_with_context(user_id, book_title, book_desc, est_rating):\n",
    "#     prompt = f\"\"\"책 제목: {book_title}\n",
    "# 책 설명: {book_desc}\n",
    "\n",
    "# 사용자 \"{user_id}\"님께 이 책을 추천하는 이유는 다음과 같습니다.\n",
    "# 예상 평점은 {est_rating:.2f}점입니다.\n",
    "# 추천 이유:\"\"\"\n",
    "    \n",
    "#     inputs = tokenizer(prompt, return_tensors=\"pt\").to(\"cpu\")\n",
    "#     outputs = llm_model.generate(\n",
    "#         **inputs,\n",
    "#         max_new_tokens=100,\n",
    "#         pad_token_id=tokenizer.eos_token_id,\n",
    "#         do_sample=True,\n",
    "#         temperature=0.7,\n",
    "#         top_k=50,\n",
    "#         top_p=0.95\n",
    "#     )\n",
    "#     result = tokenizer.decode(outputs[0], skip_special_tokens=True)\n",
    "#     explanation = result.split(\"추천 이유:\")[-1].strip()\n",
    "#     return explanation\n",
    "\n",
    "# # 추천 함수\n",
    "# def recommend_books_with_reason(model, df_filtered, user_id, n=1, isbn_to_title=None, isbn_to_desc=None):\n",
    "#     read_books = df_filtered[df_filtered['user_id'] == user_id]['isbn'].unique()\n",
    "#     all_books = df_filtered['isbn'].unique()\n",
    "#     unread_books = [isbn for isbn in all_books if isbn not in read_books]\n",
    "\n",
    "#     preds = [model.predict(user_id, isbn) for isbn in unread_books]\n",
    "#     top_n = sorted(preds, key=lambda x: x.est, reverse=True)[:n]\n",
    "\n",
    "#     print(f\"\\n[{user_id}님 추천 도서]\")\n",
    "#     for pred in top_n:\n",
    "#         title = isbn_to_title.get(pred.iid, \"제목 없음\")\n",
    "#         desc = isbn_to_desc.get(pred.iid, \"설명이 없습니다.\")\n",
    "#         explanation = generate_explanation_with_context(user_id, title, desc, pred.est)\n",
    "\n",
    "#         print(f\" 책 제목: {title}\")\n",
    "#         print(f\" 예상 평점: {pred.est:.2f}\")\n",
    "#         print(f\" 추천 이유: {explanation}\")\n",
    "\n",
    "\n",
    "# recommend_books_with_reason(model, df_filtered, \"책읽는나무\", n=1, isbn_to_title=isbn_to_title, isbn_to_desc=isbn_to_desc)"
   ]
  },
  {
   "cell_type": "code",
   "execution_count": null,
   "id": "3daae507-e467-4807-bb84-dc714752ad87",
   "metadata": {},
   "outputs": [],
   "source": []
  }
 ],
 "metadata": {
  "kernelspec": {
   "display_name": "finalpj",
   "language": "python",
   "name": "finalpj"
  },
  "language_info": {
   "codemirror_mode": {
    "name": "ipython",
    "version": 3
   },
   "file_extension": ".py",
   "mimetype": "text/x-python",
   "name": "python",
   "nbconvert_exporter": "python",
   "pygments_lexer": "ipython3",
   "version": "3.12.9"
  }
 },
 "nbformat": 4,
 "nbformat_minor": 5
}
